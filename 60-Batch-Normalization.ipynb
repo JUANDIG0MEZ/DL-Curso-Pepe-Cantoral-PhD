{
 "cells": [
  {
   "cell_type": "code",
   "execution_count": 64,
   "metadata": {},
   "outputs": [],
   "source": [
    "import numpy as np\n",
    "import torch\n",
    "import torch.nn as nn\n",
    "import torch.nn.functional as F\n"
   ]
  },
  {
   "cell_type": "code",
   "execution_count": 65,
   "metadata": {},
   "outputs": [],
   "source": [
    "# m => batch size\n",
    "# hidden => number of neurons\n",
    "# hidden_prev => number of neurons in previous layer\n",
    "m, hidden, hidden_prev = 4, 5, 6\n",
    "W = np.random.rand(hidden, hidden_prev)\n",
    "Z_prev = np.random.randint(0, 100, size =( m, hidden_prev))\n",
    "gamma = np.ones((hidden,1))\n",
    "beta = np.zeros((hidden,1))"
   ]
  },
  {
   "cell_type": "code",
   "execution_count": 66,
   "metadata": {},
   "outputs": [],
   "source": [
    "Z = W @ Z_prev.T"
   ]
  },
  {
   "cell_type": "code",
   "execution_count": 67,
   "metadata": {},
   "outputs": [
    {
     "data": {
      "text/plain": [
       "(5, 4)"
      ]
     },
     "execution_count": 67,
     "metadata": {},
     "output_type": "execute_result"
    }
   ],
   "source": [
    "Z.shape"
   ]
  },
  {
   "cell_type": "code",
   "execution_count": 68,
   "metadata": {},
   "outputs": [],
   "source": [
    "def batch_nom(Z, gamma, beta):\n",
    "    mean = Z.mean(axis=1, keepdims=True)\n",
    "    std_dev = Z.std(axis=1, keepdims=True)\n",
    "    Z_norm = (Z - mean) / (std_dev + 1e-8)\n",
    "    return gamma * Z_norm + beta"
   ]
  },
  {
   "cell_type": "code",
   "execution_count": 69,
   "metadata": {},
   "outputs": [],
   "source": [
    "Z_norm = batch_nom(Z, gamma, beta)"
   ]
  },
  {
   "cell_type": "code",
   "execution_count": 70,
   "metadata": {},
   "outputs": [
    {
     "name": "stdout",
     "output_type": "stream",
     "text": [
      "[[145.40224892]\n",
      " [ 94.07523818]\n",
      " [160.53466406]\n",
      " [104.3046715 ]\n",
      " [160.32462711]]\n",
      "[[54.9585836 ]\n",
      " [44.39167015]\n",
      " [61.28986913]\n",
      " [41.07497073]\n",
      " [54.77469304]]\n"
     ]
    }
   ],
   "source": [
    "print(Z.mean(axis=1, keepdims=True))\n",
    "print(Z.std(axis=1, keepdims=True))"
   ]
  },
  {
   "cell_type": "code",
   "execution_count": 71,
   "metadata": {},
   "outputs": [
    {
     "name": "stdout",
     "output_type": "stream",
     "text": [
      "[[-6.93889390e-18]\n",
      " [ 1.52655666e-16]\n",
      " [-1.11022302e-16]\n",
      " [ 2.04697370e-16]\n",
      " [-7.63278329e-17]]\n",
      "[[1.]\n",
      " [1.]\n",
      " [1.]\n",
      " [1.]\n",
      " [1.]]\n"
     ]
    }
   ],
   "source": [
    "print(Z_norm.mean(axis=1, keepdims=True))\n",
    "print(Z_norm.std(axis=1, keepdims=True))"
   ]
  },
  {
   "cell_type": "code",
   "execution_count": 72,
   "metadata": {},
   "outputs": [
    {
     "name": "stdout",
     "output_type": "stream",
     "text": [
      "[[ 0.72112619  0.99574911 -1.57069825 -0.14617705]\n",
      " [ 1.32157857  0.13765206 -1.4944045   0.03517387]\n",
      " [ 0.72728205  1.12665275 -1.41848407 -0.43545073]\n",
      " [ 0.68807939  0.86385778 -1.66367405  0.11173688]\n",
      " [ 0.6955258   1.06144702 -1.52890832 -0.2280645 ]]\n"
     ]
    }
   ],
   "source": [
    "print(Z_norm)"
   ]
  },
  {
   "cell_type": "code",
   "execution_count": 73,
   "metadata": {},
   "outputs": [],
   "source": [
    "def batch_norm_pytorch(Z, hidden):\n",
    "    Z_tensor = torch.tensor(Z.T, dtype=torch.float32)\n",
    "    bn = nn.BatchNorm1d(hidden)\n",
    "    return bn(Z_tensor).T\n",
    "Z_norm_pytorch = batch_norm_pytorch(Z, hidden)"
   ]
  },
  {
   "cell_type": "code",
   "execution_count": 74,
   "metadata": {},
   "outputs": [
    {
     "name": "stdout",
     "output_type": "stream",
     "text": [
      "tensor([[ 0.7211,  0.9957, -1.5707, -0.1462],\n",
      "        [ 1.3216,  0.1377, -1.4944,  0.0352],\n",
      "        [ 0.7273,  1.1267, -1.4185, -0.4355],\n",
      "        [ 0.6881,  0.8639, -1.6637,  0.1117],\n",
      "        [ 0.6955,  1.0614, -1.5289, -0.2281]], grad_fn=<PermuteBackward0>)\n"
     ]
    }
   ],
   "source": [
    "print(Z_norm_pytorch)"
   ]
  },
  {
   "cell_type": "code",
   "execution_count": 76,
   "metadata": {},
   "outputs": [
    {
     "data": {
      "text/plain": [
       "True"
      ]
     },
     "execution_count": 76,
     "metadata": {},
     "output_type": "execute_result"
    }
   ],
   "source": [
    "np.allclose(Z_norm, Z_norm_pytorch.detach().numpy())"
   ]
  },
  {
   "cell_type": "markdown",
   "metadata": {},
   "source": [
    "## batch normalization in CNN"
   ]
  },
  {
   "cell_type": "code",
   "execution_count": 78,
   "metadata": {},
   "outputs": [],
   "source": [
    "h, w, c, m = (5, 5, 4, 8)\n",
    "Z = np.random.randint(0, 100, size = (h, w, c, m))\n",
    "gamma2D = np.ones((1, 1, c, 1))\n",
    "beta2D = np.zeros((1, 1, c, 1))"
   ]
  },
  {
   "cell_type": "code",
   "execution_count": 80,
   "metadata": {},
   "outputs": [],
   "source": [
    "def batch_norm2D(Z, gamma, beta):\n",
    "    mean = np.mean(Z, axis = (0, 1, 3), keepdims=True)\n",
    "    std_dev = np.std(Z, axis = (0, 1, 3), keepdims=True)\n",
    "    Z_norm = (Z - mean) / (std_dev + 1e-8)\n",
    "    return gamma * Z_norm + beta\n",
    "Z_norm2D = batch_norm2D(Z, gamma2D, beta2D)\n"
   ]
  },
  {
   "cell_type": "code",
   "execution_count": 81,
   "metadata": {},
   "outputs": [],
   "source": [
    "def batch_morm2D_pytorch(Z, channels):\n",
    "    Z_tensor = torch.tensor(Z.transpose(3, 2, 0, 1), dtype=torch.float32)\n",
    "    bn2D = nn.BatchNorm2d(channels)\n",
    "    return bn2D(Z_tensor).permute(2, 3 ,1 , 0).detach().numpy()\n",
    "Z_norm2D_pytorch = batch_morm2D_pytorch(Z, c)\n",
    "    "
   ]
  },
  {
   "cell_type": "code",
   "execution_count": 83,
   "metadata": {},
   "outputs": [
    {
     "data": {
      "text/plain": [
       "True"
      ]
     },
     "execution_count": 83,
     "metadata": {},
     "output_type": "execute_result"
    }
   ],
   "source": [
    "np.allclose(Z_norm2D, Z_norm2D_pytorch)"
   ]
  }
 ],
 "metadata": {
  "kernelspec": {
   "display_name": "entornoJupyter",
   "language": "python",
   "name": "python3"
  },
  "language_info": {
   "codemirror_mode": {
    "name": "ipython",
    "version": 3
   },
   "file_extension": ".py",
   "mimetype": "text/x-python",
   "name": "python",
   "nbconvert_exporter": "python",
   "pygments_lexer": "ipython3",
   "version": "3.12.3"
  }
 },
 "nbformat": 4,
 "nbformat_minor": 2
}
