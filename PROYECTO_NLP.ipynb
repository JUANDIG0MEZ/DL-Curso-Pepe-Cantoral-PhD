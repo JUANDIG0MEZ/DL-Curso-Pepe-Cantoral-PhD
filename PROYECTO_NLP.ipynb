{
 "cells": [
  {
   "cell_type": "code",
   "execution_count": 162,
   "id": "d3a6e734",
   "metadata": {},
   "outputs": [],
   "source": [
    "import torch\n",
    "import matplotlib.pyplot as plt\n",
    "import random"
   ]
  },
  {
   "cell_type": "markdown",
   "id": "2f74babe",
   "metadata": {},
   "source": [
    "# Database description"
   ]
  },
  {
   "cell_type": "code",
   "execution_count": 163,
   "id": "36501c99",
   "metadata": {},
   "outputs": [],
   "source": [
    "PATH_ES = 'datasets/traductor-spanish/Tatoeba.en-es.es'\n",
    "PATH_EN = 'datasets/traductor-spanish/Tatoeba.en-es.en'"
   ]
  },
  {
   "cell_type": "code",
   "execution_count": 164,
   "id": "e8b4cfbf",
   "metadata": {},
   "outputs": [],
   "source": [
    "eng_sentences = []\n",
    "spa_sentences = []"
   ]
  },
  {
   "cell_type": "code",
   "execution_count": 165,
   "id": "6d347a99",
   "metadata": {},
   "outputs": [],
   "source": [
    "with open(PATH_EN, 'r', encoding='utf-8') as f:\n",
    "    for line in f:\n",
    "        eng_sentences.append(line.strip())\n",
    "\n",
    "with open(PATH_ES, 'r', encoding='utf-8') as f:\n",
    "    for line in f:\n",
    "        spa_sentences.append(line.strip())\n",
    "\n",
    "assert len(eng_sentences) == len(spa_sentences), \"The number of sentences in both files must be the same.\""
   ]
  },
  {
   "cell_type": "markdown",
   "id": "ba4c8fd1",
   "metadata": {},
   "source": [
    "## Sample Database"
   ]
  },
  {
   "cell_type": "code",
   "execution_count": 166,
   "id": "359d6558",
   "metadata": {},
   "outputs": [
    {
     "name": "stdout",
     "output_type": "stream",
     "text": [
      "105937 English: How did you spend your summer holiday?\n",
      "105937 Spanish: ¿Cómo pasaste las vacaciones de verano?\n",
      "\n",
      "60314 English: Hearing the sad news, she collapsed in tears.\n",
      "60314 Spanish: Después de oír la triste noticia, se puso a llorar.\n",
      "\n",
      "155560 English: You don't know my brother.\n",
      "155560 Spanish: No conocen a mi hermano.\n",
      "\n",
      "53487 English: He went to bed.\n",
      "53487 Spanish: Él se fue a acostar.\n",
      "\n",
      "147909 English: You're too little.\n",
      "147909 Spanish: Eres demasiado pequeño.\n",
      "\n",
      "Number of sentences: 222073\n"
     ]
    }
   ],
   "source": [
    "for i in range(5):\n",
    "    idx = random.randint(0, len(eng_sentences) - 1)\n",
    "    print(f\"{idx} English: {eng_sentences[idx]}\")\n",
    "    print(f\"{idx} Spanish: {spa_sentences[idx]}\")\n",
    "    print()\n",
    "print(f\"Number of sentences: {len(eng_sentences)}\")"
   ]
  },
  {
   "cell_type": "markdown",
   "id": "7582e4b3",
   "metadata": {},
   "source": [
    "# Database preprocessing"
   ]
  },
  {
   "cell_type": "code",
   "execution_count": 183,
   "id": "21da70ba",
   "metadata": {},
   "outputs": [],
   "source": [
    "from transformers import AutoTokenizer\n",
    "from transformers import logging\n",
    "logging.set_verbosity_error()"
   ]
  },
  {
   "cell_type": "code",
   "execution_count": 168,
   "id": "c8fc7380",
   "metadata": {},
   "outputs": [
    {
     "name": "stderr",
     "output_type": "stream",
     "text": [
      "/home/juangomez/entorno_NLP/lib/python3.12/site-packages/transformers/convert_slow_tokenizer.py:559: UserWarning: The sentencepiece tokenizer that you are converting to a fast tokenizer uses the byte fallback option which is not implemented in the fast tokenizers. In practice this means that the fast version of the tokenizer can produce unknown tokens whereas the sentencepiece version would have converted these unknown tokens into a sequence of byte tokens matching the original piece of text.\n",
      "  warnings.warn(\n"
     ]
    },
    {
     "name": "stdout",
     "output_type": "stream",
     "text": [
      "15537 English: ['▁It', '▁was', '▁about', '▁the', '▁size', '▁of', '▁an', '▁egg', '.']\n",
      "15537 Spanish: ['▁Era', '▁más', '▁', 'o', '▁menos', '▁del', '▁porte', '▁de', '▁un', '▁hu', 'evo', '.']\n",
      "59248 English: ['▁She', '▁looks', '▁at', '▁least', '▁sixty', '.']\n",
      "59248 Spanish: ['▁Pare', 'ce', '▁', 'tener', '▁al', '▁menos', '▁ses', 'enta', '▁años', '.']\n",
      "69379 English: ['▁He', '▁needs', '▁', 'a', '▁medication', '▁but', '▁doesn', '’', 't', '▁want', '▁it', '.']\n",
      "69379 Spanish: ['▁Él', '▁necesita', '▁medic', 'ación', ',', '▁pero', '▁no', '▁la', '▁', 'quiere', '.']\n",
      "28314 English: ['▁When', '▁I', '▁looked', '▁about', ',', '▁I', '▁found', '▁', 'a', '▁letter', '▁on', '▁the', '▁desk', '.']\n",
      "28314 Spanish: ['▁', 'Cuando', '▁mir', 'é', '▁', 'a', '▁mi', '▁al', 're', 'dedor', ',', '▁vi', '▁una', '▁carta', '▁sobre', '▁el', '▁escrit', 'orio', '.']\n",
      "64612 English: ['▁She', \"'\", 's', '▁un', 'fit', '▁for', '▁the', '▁job', '.']\n",
      "64612 Spanish: ['▁Ella', '▁es', '▁in', 'adec', 'uada', '▁para', '▁el', '▁trabajo', '.']\n"
     ]
    }
   ],
   "source": [
    "# Cargar el tokenizador de BERT (puedes usar otro modelo)\n",
    "tokenizer_en = AutoTokenizer.from_pretrained(\"t5-small\")\n",
    "tokenizer_es = AutoTokenizer.from_pretrained(\"google/mt5-small\")\n",
    "\n",
    "\n",
    "for i in range(len(eng_sentences)):\n",
    "    eng_sentences[i] = tokenizer_en.tokenize(eng_sentences[i])\n",
    "    spa_sentences[i] = tokenizer_es.tokenize(spa_sentences[i])\n",
    "\n",
    "for i in range(5):\n",
    "    idx = random.randint(0, len(eng_sentences) - 1)\n",
    "    print(f\"{idx} English: {eng_sentences[idx]}\")\n",
    "    print(f\"{idx} Spanish: {spa_sentences[idx]}\")\n"
   ]
  },
  {
   "cell_type": "code",
   "execution_count": 169,
   "id": "25638cd8",
   "metadata": {},
   "outputs": [
    {
     "name": "stdout",
     "output_type": "stream",
     "text": [
      "Max length sentence: 307\n"
     ]
    }
   ],
   "source": [
    "max_len_sentence = 0\n",
    "for i in range(len(eng_sentences)):\n",
    "    if len(eng_sentences[i]) > max_len_sentence:\n",
    "        max_len_sentence = len(eng_sentences[i])\n",
    "print(f\"Max length sentence: {max_len_sentence}\")"
   ]
  },
  {
   "cell_type": "markdown",
   "id": "d3a83f72",
   "metadata": {},
   "source": [
    "# Create Dataloader"
   ]
  },
  {
   "cell_type": "code",
   "execution_count": 170,
   "id": "8294d30c",
   "metadata": {},
   "outputs": [],
   "source": [
    "def build_vocab(sentences):\n",
    "    tokens = [token for sentence in sentences for token in sentence]\n",
    "    dict_tokens = {}\n",
    "    for token in tokens:\n",
    "        if token not in dict_tokens:\n",
    "            dict_tokens[token] = 1\n",
    "        else :\n",
    "            dict_tokens[token] += 1\n",
    "    \n",
    "    sorted_tokens = sorted(dict_tokens.items(), key = lambda x: x[1], reverse=True)\n",
    "\n",
    "    word2idx = {word: idx for idx, (word, _) in enumerate(sorted_tokens, 2)}\n",
    "    word2idx['<pad>'] = 0\n",
    "    word2idx['<unk>'] = 1\n",
    "\n",
    "    idx2word = {idx: word for word, idx in word2idx.items()}\n",
    "\n",
    "\n",
    "    return word2idx, idx2word\n",
    "    \n",
    "eng_word2idx, eng_idx2word = build_vocab(eng_sentences)\n",
    "spa_word2idx, spa_idx2word = build_vocab(spa_sentences)"
   ]
  },
  {
   "cell_type": "code",
   "execution_count": 171,
   "id": "e8842f32",
   "metadata": {},
   "outputs": [
    {
     "name": "stdout",
     "output_type": "stream",
     "text": [
      "17324\n",
      "19847\n"
     ]
    }
   ],
   "source": [
    "print(len(eng_word2idx))\n",
    "print(len(spa_word2idx))\n"
   ]
  },
  {
   "cell_type": "code",
   "execution_count": 172,
   "id": "381a6c15",
   "metadata": {},
   "outputs": [
    {
     "name": "stdout",
     "output_type": "stream",
     "text": [
      ".: 2\n",
      "▁: 3\n",
      "▁I: 4\n",
      "': 5\n",
      "▁the: 6\n",
      "▁to: 7\n",
      "a: 8\n",
      "s: 9\n",
      "▁you: 10\n",
      "▁is: 11\n"
     ]
    }
   ],
   "source": [
    "for key, value in list(eng_word2idx.items())[:10]:\n",
    "  print(f'{key}: {value}')"
   ]
  },
  {
   "cell_type": "code",
   "execution_count": 195,
   "id": "64a0bab3",
   "metadata": {},
   "outputs": [],
   "source": [
    "from torch.utils.data import Dataset, DataLoader\n",
    "\n",
    "class eng2esDataset(Dataset):\n",
    "    def __init__(self, eng_sentences, spa_sentences, eng_word2idx, spa_word2idx):\n",
    "        self.eng_sentences = eng_sentences\n",
    "        self.spa_sentences = spa_sentences\n",
    "        self.eng_word2idx = eng_word2idx\n",
    "        self.spa_word2idx = spa_word2idx\n",
    "\n",
    "    def __len__(self):\n",
    "        assert len(self.eng_sentences) == len(self.spa_sentences), \"Mismatch in the number of sentences\"\n",
    "        return len(self.eng_sentences)\n",
    "\n",
    "    def __getitem__(self, idx):\n",
    "        eng_sentence = self.eng_sentences[idx]\n",
    "        spa_sentence = self.spa_sentences[idx]\n",
    "\n",
    "        # Ahora eng_sentence y spa_sentence ya son listas de tokens\n",
    "        eng_idx = [self.eng_word2idx.get(token, self.eng_word2idx['<unk>']) for token in eng_sentence]\n",
    "        spa_idx = [self.spa_word2idx.get(token, self.spa_word2idx['<unk>']) for token in spa_sentence]\n",
    "\n",
    "        return torch.tensor(eng_idx, dtype=torch.uint16), torch.tensor(spa_idx, dtype = torch.uint16)"
   ]
  },
  {
   "cell_type": "code",
   "execution_count": 196,
   "id": "c5b4cbb5",
   "metadata": {},
   "outputs": [],
   "source": [
    "from torch.nn.utils.rnn import pad_sequence\n",
    "\n",
    "MAX_LEN = 128\n",
    "\n",
    "def collate_fn(batch):\n",
    "    eng_batch, spa_batch = zip(*batch)\n",
    "\n",
    "    eng_batch = [seq[:MAX_LEN] for seq in eng_batch]\n",
    "    spa_batch = [seq[:MAX_LEN] for seq in spa_batch]\n",
    "\n",
    "    eng_batch_pad = pad_sequence(eng_batch,  batch_first= True, padding_value=0)\n",
    "    spa_batch_pad = pad_sequence(spa_batch,  batch_first= True, padding_value=0)\n",
    "\n",
    "    return eng_batch_pad, spa_batch_pad"
   ]
  },
  {
   "cell_type": "code",
   "execution_count": 197,
   "id": "d54a0008",
   "metadata": {},
   "outputs": [],
   "source": [
    "dataset = eng2esDataset(eng_sentences, spa_sentences, eng_word2idx, spa_word2idx)\n",
    "dataloader = DataLoader(dataset, batch_size=32, shuffle=True, collate_fn=collate_fn)"
   ]
  },
  {
   "cell_type": "code",
   "execution_count": 198,
   "id": "a683f653",
   "metadata": {},
   "outputs": [
    {
     "name": "stdout",
     "output_type": "stream",
     "text": [
      "English batch shape: torch.Size([32, 18])\n",
      "Spanish batch shape: torch.Size([32, 26])\n",
      "English batch: tensor([  4,  23, 114, 394,  10,  17, 306,   2,   0,   0,   0,   0,   0,   0,\n",
      "          0,   0,   0,   0], dtype=torch.uint16)\n",
      "Spanish batch: tensor([ 20,  48, 189, 887,  35,   2, 236,   4,  10, 393,   3,   0,   0,   0,\n",
      "          0,   0,   0,   0,   0,   0,   0,   0,   0,   0,   0,   0],\n",
      "       dtype=torch.uint16)\n"
     ]
    }
   ],
   "source": [
    "for batch in dataloader:\n",
    "    eng_batch, spa_batch = batch\n",
    "    print(\"English batch shape:\", eng_batch.shape)\n",
    "    print(\"Spanish batch shape:\", spa_batch.shape)\n",
    "\n",
    "    print(\"English batch:\", eng_batch[0])\n",
    "    print(\"Spanish batch:\", spa_batch[0])\n",
    "    break "
   ]
  },
  {
   "cell_type": "code",
   "execution_count": 199,
   "id": "914c33f8",
   "metadata": {},
   "outputs": [],
   "source": [
    "class NoamOptSchedule:\n",
    "    def __init__(self, d_model, warmup_steps, step_num, optimizer):\n",
    "        self.d_model = d_model\n",
    "        self.warmup_steps = warmup_steps\n",
    "        self.step_num = step_num\n",
    "        self.optimizer = optimizer\n",
    "        self._rate = 0\n",
    "        self._step = 0\n",
    "    \n",
    "    def step(self):\n",
    "        self._step += 1\n",
    "        self._rate = self.rate()\n",
    "\n",
    "        for param_group in self.optimizer.param_groups:\n",
    "            param_group['lr'] = self._rate\n",
    "\n",
    "    def rate(self):\n",
    "        return self.d_model ** -0.5 * min(self._step ** -0.5, self._step * self.warmup_steps ** -1.5)\n",
    "    \n",
    "    def plot_learning_rate(self):\n",
    "        x = np.arange(1, self.step_num + 1)\n",
    "        y = [self.rate() for _ in range(self.step_num)]\n",
    "\n",
    "        plt.plot(x, y)\n",
    "        plt.xlabel('Step')\n",
    "        plt.ylabel('Learning Rate')\n",
    "        plt.title('Learning Rate Schedule')\n",
    "        plt.show()"
   ]
  },
  {
   "cell_type": "code",
   "execution_count": 181,
   "id": "cbd65d63",
   "metadata": {},
   "outputs": [
    {
     "name": "stderr",
     "output_type": "stream",
     "text": [
      "/home/juangomez/entorno_NLP/lib/python3.12/site-packages/torch/nn/modules/transformer.py:385: UserWarning: enable_nested_tensor is True, but self.use_nested_tensor is False because encoder_layer.self_attn.batch_first was not True(use batch_first for better inference performance)\n",
      "  warnings.warn(\n"
     ]
    }
   ],
   "source": [
    "model = torch.nn.Transformer(d_model=512, nhead=8, num_encoder_layers=6, num_decoder_layers=6)"
   ]
  },
  {
   "cell_type": "code",
   "execution_count": 182,
   "id": "230c98f9",
   "metadata": {},
   "outputs": [
    {
     "ename": "TypeError",
     "evalue": "NoamOptSchedule.__init__() got an unexpected keyword argument 'model_size'",
     "output_type": "error",
     "traceback": [
      "\u001b[0;31m---------------------------------------------------------------------------\u001b[0m",
      "\u001b[0;31mTypeError\u001b[0m                                 Traceback (most recent call last)",
      "Cell \u001b[0;32mIn[182], line 2\u001b[0m\n\u001b[1;32m      1\u001b[0m optimizer \u001b[38;5;241m=\u001b[39m torch\u001b[38;5;241m.\u001b[39moptim\u001b[38;5;241m.\u001b[39mAdam(model\u001b[38;5;241m.\u001b[39mparameters(), betas\u001b[38;5;241m=\u001b[39m(\u001b[38;5;241m0.9\u001b[39m, \u001b[38;5;241m0.98\u001b[39m), eps\u001b[38;5;241m=\u001b[39m\u001b[38;5;241m1e-9\u001b[39m)\n\u001b[0;32m----> 2\u001b[0m scheduler \u001b[38;5;241m=\u001b[39m \u001b[43mNoamOptSchedule\u001b[49m\u001b[43m(\u001b[49m\u001b[43mmodel_size\u001b[49m\u001b[38;5;241;43m=\u001b[39;49m\u001b[38;5;241;43m512\u001b[39;49m\u001b[43m,\u001b[49m\u001b[43m \u001b[49m\u001b[43mfactor\u001b[49m\u001b[38;5;241;43m=\u001b[39;49m\u001b[38;5;241;43m1\u001b[39;49m\u001b[43m,\u001b[49m\u001b[43m \u001b[49m\u001b[43mwarmup\u001b[49m\u001b[38;5;241;43m=\u001b[39;49m\u001b[38;5;241;43m4000\u001b[39;49m\u001b[43m,\u001b[49m\u001b[43m \u001b[49m\u001b[43moptimizer\u001b[49m\u001b[38;5;241;43m=\u001b[39;49m\u001b[43moptimizer\u001b[49m\u001b[43m)\u001b[49m\n",
      "\u001b[0;31mTypeError\u001b[0m: NoamOptSchedule.__init__() got an unexpected keyword argument 'model_size'"
     ]
    }
   ],
   "source": [
    "optimizer = torch.optim.Adam(model.parameters(), betas=(0.9, 0.98), eps=1e-9)\n",
    "scheduler = NoamOptSchedule(model_size=512, factor=1, warmup=4000, optimizer=optimizer)"
   ]
  },
  {
   "cell_type": "code",
   "execution_count": 179,
   "id": "9c889343",
   "metadata": {},
   "outputs": [
    {
     "data": {
      "image/png": "[encoded data removed]",
      "text/plain": [
       "<Figure size 1000x600 with 1 Axes>"
      ]
     },
     "metadata": {},
     "output_type": "display_data"
    }
   ],
   "source": [
    "import matplotlib.pyplot as plt\n",
    "import numpy as np\n",
    "\n",
    "# Parámetros\n",
    "d_model = 512\n",
    "warmup_steps = 4000\n",
    "total_steps = 20000\n",
    "\n",
    "# Función de ajuste del learning rate\n",
    "def lr_schedule(step_num, d_model, warmup_steps):\n",
    "    step_num = np.asarray(step_num)  # Asegurarse de que step_num sea un arreglo de NumPy\n",
    "    return d_model**-0.5 * np.minimum(step_num**-0.5, step_num * warmup_steps**-1.5)\n",
    "\n",
    "# Generar pasos y tasas de aprendizaje\n",
    "steps = np.arange(1, total_steps + 1)\n",
    "lrs = lr_schedule(steps, d_model, warmup_steps)\n",
    "\n",
    "# Graficar\n",
    "plt.figure(figsize=(10, 6))\n",
    "plt.plot(steps, lrs, label='Tasa de Aprendizaje')\n",
    "plt.title('Estrategia de Ajuste del Learning Rate en Transformer')\n",
    "plt.xlabel('Número de Pasos de Entrenamiento')\n",
    "plt.ylabel('Tasa de Aprendizaje')\n",
    "plt.grid(True)\n",
    "plt.legend()\n",
    "plt.show()\n",
    "\n"
   ]
  }
 ],
 "metadata": {
  "kernelspec": {
   "display_name": "entorno_NLP",
   "language": "python",
   "name": "python3"
  },
  "language_info": {
   "codemirror_mode": {
    "name": "ipython",
    "version": 3
   },
   "file_extension": ".py",
   "mimetype": "text/x-python",
   "name": "python",
   "nbconvert_exporter": "python",
   "pygments_lexer": "ipython3",
   "version": "3.12.3"
  }
 },
 "nbformat": 4,
 "nbformat_minor": 5
}
