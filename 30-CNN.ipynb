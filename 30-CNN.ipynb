{
 "cells": [
  {
   "cell_type": "markdown",
   "metadata": {},
   "source": [
    "$ h_{out} = \\frac{1}{2}$"
   ]
  },
  {
   "cell_type": "markdown",
   "metadata": {},
   "source": [
    "# Convolucional Neuronal Network"
   ]
  },
  {
   "cell_type": "code",
   "execution_count": 30,
   "metadata": {},
   "outputs": [],
   "source": [
    "import numpy as np\n",
    "import torch\n",
    "import torch.nn as nn\n",
    "import torch.nn.functional as F\n",
    "\n",
    "# \n",
    "from torch.utils.data import DataLoader\n",
    "from torch.utils.data import sampler\n",
    "import torchvision.datasets as datasets\n",
    "import torchvision.transforms as T\n",
    "from torchvision import models\n",
    "import matplotlib.pyplot as plt"
   ]
  },
  {
   "cell_type": "markdown",
   "metadata": {},
   "source": [
    "## Upload database"
   ]
  },
  {
   "cell_type": "code",
   "execution_count": 31,
   "metadata": {},
   "outputs": [],
   "source": [
    "data_path = '/home/juangomez/Desktop/ML/Cursos/Pepe Cantoral/datasets'\n",
    "num_train = 50000\n",
    "num_val = 5000\n",
    "num_test = 5000\n",
    "batch_size = 64\n",
    "\n",
    "\n",
    "transform_cifar = T.Compose([\n",
    "    T.ToTensor(),\n",
    "    T.Normalize([0.491, 0.482, 0.447], [0.247, 0.243, 0.261])\n",
    "])\n",
    "\n",
    "# Training set\n",
    "cifar10_train = datasets.CIFAR10(\n",
    "    data_path,\n",
    "    train=True,\n",
    "    download=True,\n",
    "    transform=transform_cifar)\n",
    "train_loader = DataLoader(\n",
    "    cifar10_train,\n",
    "    batch_size=batch_size,\n",
    "    sampler=sampler.SubsetRandomSampler(range(num_train)))\n",
    "\n",
    "# Validation set\n",
    "cifar10_val = datasets.CIFAR10(\n",
    "    data_path,\n",
    "    train= False,\n",
    "    download=True,\n",
    "    transform=transform_cifar)\n",
    "val_loader = DataLoader(\n",
    "    cifar10_val,\n",
    "    batch_size=batch_size,\n",
    "    sampler=sampler.SubsetRandomSampler(range(num_val)))\n",
    "\n",
    "# Test set\n",
    "cifar10_test = datasets.CIFAR10(\n",
    "    data_path,\n",
    "    train=False,\n",
    "    download=True,\n",
    "    transform= transform_cifar)\n",
    "test_loader = DataLoader(\n",
    "    cifar10_test,\n",
    "    batch_size=batch_size,\n",
    "    sampler=sampler.SubsetRandomSampler(range(num_test, num_test + num_val))\n",
    ")\n"
   ]
  },
  {
   "cell_type": "code",
   "execution_count": 32,
   "metadata": {},
   "outputs": [
    {
     "name": "stdout",
     "output_type": "stream",
     "text": [
      "torch.Size([64, 3, 32, 32])\n"
     ]
    }
   ],
   "source": [
    "# this make a generator\n",
    "data_iter = iter(train_loader)\n",
    "# get the first batch\n",
    "images, labels = next(data_iter)\n",
    "print(images.shape)"
   ]
  },
  {
   "cell_type": "markdown",
   "metadata": {},
   "source": [
    "# Choose Device"
   ]
  },
  {
   "cell_type": "code",
   "execution_count": 33,
   "metadata": {},
   "outputs": [
    {
     "name": "stdout",
     "output_type": "stream",
     "text": [
      "cpu\n"
     ]
    }
   ],
   "source": [
    "if torch.cuda.is_available():\n",
    "    device = torch.device(\"cuda\")\n",
    "else:\n",
    "    device = torch.device(\"cpu\")\n",
    "print(device)"
   ]
  },
  {
   "cell_type": "markdown",
   "metadata": {},
   "source": [
    "## Show images"
   ]
  },
  {
   "cell_type": "code",
   "execution_count": 34,
   "metadata": {},
   "outputs": [
    {
     "name": "stdout",
     "output_type": "stream",
     "text": [
      "Show the image 0 of the batch 77. Class: \n"
     ]
    },
    {
     "data": {
      "image/png": "[encoded data removed]",
      "text/plain": [
       "<Figure size 640x480 with 1 Axes>"
      ]
     },
     "metadata": {},
     "output_type": "display_data"
    }
   ],
   "source": [
    "classes = ['Plane', 'Car', 'Bird', 'Cat', 'Deer', 'Dog', 'Frog', 'Horse', 'Ship', 'Truck']\n",
    "\n",
    "def plot_figure(image):\n",
    "    plt.imshow(image.permute(1, 2, 0))\n",
    "    plt.axis('off')\n",
    "    plt.show()\n",
    "\n",
    "idx= np.random.randint(len(test_loader))\n",
    "print(f'Show the image 0 of the batch {idx}. Class: ')\n",
    "image = test_loader.dataset[idx][0]\n",
    "image = (image- image.min())/(image.max()-image.min())\n",
    "plot_figure(image)"
   ]
  },
  {
   "cell_type": "markdown",
   "metadata": {},
   "source": [
    "# Accuracy\n"
   ]
  },
  {
   "cell_type": "code",
   "execution_count": 35,
   "metadata": {},
   "outputs": [],
   "source": [
    "def accuracy(model, loader):\n",
    "    num_correct = 0\n",
    "    num_total = 0\n",
    "    model.eval()\n",
    "    model.to(device)\n",
    "    with torch.no_grad():\n",
    "        for xi, yi in loader:\n",
    "            xi = xi.to(device)\n",
    "            yi = yi.to(device)\n",
    "            scores = model(xi)\n",
    "            # Compute the max in each row for each image of the batch\n",
    "            _, preds = scores.max(1)\n",
    "            num_correct += (preds == yi).sum()\n",
    "            num_total += len(yi)\n",
    "        return float(num_correct) / num_total"
   ]
  },
  {
   "cell_type": "markdown",
   "metadata": {},
   "source": [
    "# Training Loop"
   ]
  },
  {
   "cell_type": "code",
   "execution_count": 36,
   "metadata": {},
   "outputs": [],
   "source": [
    "def train(model, optimizer, epochs=100):\n",
    "    model = model.to(device = device)\n",
    "    for epoch in range(epochs):\n",
    "        model.train()\n",
    "        for (xi, yi) in train_loader:\n",
    "            xi = xi.to(device = device, dtype=torch.float32)\n",
    "            yi = yi.to(device = device, dtype=torch.long)\n",
    "            scores = model(xi)\n",
    "\n",
    "            cost = F.cross_entropy(input=scores, target=yi.squeeze())\n",
    "\n",
    "            optimizer.zero_grad()\n",
    "            cost.backward()\n",
    "            optimizer.step()\n",
    "        acc = accuracy(model, val_loader)\n",
    "        if epoch%1 == 0:\n",
    "            print(f'Epoch {epoch}, Cost: {cost.item()}, accuracy: {acc}')\n"
   ]
  },
  {
   "cell_type": "markdown",
   "metadata": {},
   "source": [
    "# Secuential linear"
   ]
  },
  {
   "cell_type": "code",
   "execution_count": 37,
   "metadata": {},
   "outputs": [
    {
     "name": "stdout",
     "output_type": "stream",
     "text": [
      "Epoch 0, Cost: 1.3615127801895142, accuracy: 0.48\n",
      "Epoch 1, Cost: 1.1977559328079224, accuracy: 0.499\n",
      "Epoch 2, Cost: 1.0292707681655884, accuracy: 0.511\n",
      "Epoch 3, Cost: 1.2579947710037231, accuracy: 0.4992\n",
      "Epoch 4, Cost: 1.0519800186157227, accuracy: 0.5298\n",
      "Epoch 5, Cost: 1.0020697116851807, accuracy: 0.5366\n",
      "Epoch 6, Cost: 1.1797503232955933, accuracy: 0.5332\n",
      "Epoch 7, Cost: 1.1155821084976196, accuracy: 0.5336\n",
      "Epoch 8, Cost: 0.6970008611679077, accuracy: 0.53\n",
      "Epoch 9, Cost: 1.7788828611373901, accuracy: 0.5368\n"
     ]
    }
   ],
   "source": [
    "hidden1 = 256\n",
    "hidden2 = 256\n",
    "lr = 1e-3\n",
    "epochs = 10\n",
    "model = nn.Sequential(\n",
    "    nn.Flatten(),\n",
    "    nn.Linear(in_features = 3*32*32, out_features=hidden1), nn.ReLU(),\n",
    "    nn.Linear(in_features = hidden1, out_features=hidden2), nn.ReLU(),\n",
    "    nn.Linear(in_features = hidden2, out_features=10), nn.ReLU()\n",
    ")\n",
    "\n",
    "optimizer = torch.optim.Adam(model.parameters(), lr=lr, betas= (0.9, 0.999))\n",
    "train(model, optimizer, epochs=epochs)"
   ]
  },
  {
   "cell_type": "markdown",
   "metadata": {},
   "source": [
    "# Sequetial CNN"
   ]
  },
  {
   "cell_type": "code",
   "execution_count": 38,
   "metadata": {},
   "outputs": [
    {
     "name": "stdout",
     "output_type": "stream",
     "text": [
      "Epoch 0, Cost: 1.0483596324920654, accuracy: 0.6396\n",
      "Epoch 1, Cost: 1.3102608919143677, accuracy: 0.6716\n",
      "Epoch 2, Cost: 1.081221342086792, accuracy: 0.6782\n",
      "Epoch 3, Cost: 0.7491334080696106, accuracy: 0.683\n",
      "Epoch 4, Cost: 0.9595288038253784, accuracy: 0.673\n",
      "Epoch 5, Cost: 0.859831690788269, accuracy: 0.6792\n",
      "Epoch 6, Cost: 0.984738290309906, accuracy: 0.669\n",
      "Epoch 7, Cost: 0.4743129014968872, accuracy: 0.6606\n",
      "Epoch 8, Cost: 0.6012346744537354, accuracy: 0.6562\n",
      "Epoch 9, Cost: 0.2769041061401367, accuracy: 0.6574\n"
     ]
    }
   ],
   "source": [
    "channel1 = 16\n",
    "channel2 = 32\n",
    "epochs = 10\n",
    "lr = 1e-3\n",
    "\n",
    "modelCNN1 = nn.Sequential(\n",
    "    nn.Conv2d(in_channels=3, out_channels=channel1, kernel_size=3, stride=1, padding=1),\n",
    "    nn.ReLU(),\n",
    "    nn.Conv2d(in_channels=channel1, out_channels=channel2, kernel_size=3, stride=1, padding=1),\n",
    "    nn.ReLU(),\n",
    "    nn.MaxPool2d(kernel_size=2, stride=2),\n",
    "    nn.Flatten(),\n",
    "    nn.Linear(in_features=16*16*channel2, out_features=10)\n",
    ")\n",
    "\n",
    "optimizer = torch.optim.Adam(modelCNN1.parameters(), lr=lr, betas= (0.9, 0.999))\n",
    "train(modelCNN1, optimizer, epochs=epochs)"
   ]
  },
  {
   "cell_type": "code",
   "execution_count": 39,
   "metadata": {},
   "outputs": [
    {
     "name": "stdout",
     "output_type": "stream",
     "text": [
      "Accuracy test: 0.6498\n"
     ]
    }
   ],
   "source": [
    "acc = accuracy(modelCNN1, test_loader)\n",
    "print(f'Accuracy test: {acc}')"
   ]
  },
  {
   "cell_type": "code",
   "execution_count": null,
   "metadata": {},
   "outputs": [],
   "source": []
  }
 ],
 "metadata": {
  "kernelspec": {
   "display_name": "entornoJupyter",
   "language": "python",
   "name": "python3"
  },
  "language_info": {
   "codemirror_mode": {
    "name": "ipython",
    "version": 3
   },
   "file_extension": ".py",
   "mimetype": "text/x-python",
   "name": "python",
   "nbconvert_exporter": "python",
   "pygments_lexer": "ipython3",
   "version": "3.12.3"
  }
 },
 "nbformat": 4,
 "nbformat_minor": 2
}
