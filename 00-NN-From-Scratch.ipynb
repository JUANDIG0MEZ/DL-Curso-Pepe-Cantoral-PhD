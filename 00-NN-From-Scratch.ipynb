{
 "cells": [
  {
   "cell_type": "code",
   "execution_count": 43,
   "metadata": {},
   "outputs": [
    {
     "name": "stdout",
     "output_type": "stream",
     "text": [
      "Path to dataset files: /home/juangomez/.cache/kagglehub/datasets/hojjatk/mnist-dataset/versions/1\n"
     ]
    }
   ],
   "source": [
    "import kagglehub\n",
    "\n",
    "# Download latest version\n",
    "path = kagglehub.dataset_download(\"hojjatk/mnist-dataset\")\n",
    "\n",
    "print(\"Path to dataset files:\", path)"
   ]
  },
  {
   "cell_type": "code",
   "execution_count": 44,
   "metadata": {},
   "outputs": [],
   "source": [
    "import matplotlib.pyplot as plt"
   ]
  },
  {
   "cell_type": "code",
   "execution_count": 45,
   "metadata": {},
   "outputs": [
    {
     "name": "stdout",
     "output_type": "stream",
     "text": [
      "Train images shape: (50000, 28, 28)\n",
      "Train labels shape: (50000,)\n",
      "Validation images shape: (10000, 28, 28)\n",
      "Validation labels shape: (10000,)\n",
      "Test images shape: (10000, 28, 28)\n",
      "Test labels shape: (10000,)\n"
     ]
    }
   ],
   "source": [
    "import numpy as np\n",
    "import os\n",
    "\n",
    "def load_idx(filepath):\n",
    "    with open(filepath, 'rb') as f:\n",
    "        data = np.frombuffer(f.read(), dtype=np.uint8)\n",
    "    return data\n",
    "\n",
    "# load train images\n",
    "x_train = load_idx(os.path.join(path, \"train-images.idx3-ubyte\"))[16:].reshape(-1, 28, 28)\n",
    "y_train = load_idx(os.path.join(path, \"train-labels.idx1-ubyte\"))[8:]\n",
    "\n",
    "# load test images\n",
    "x_test = load_idx(os.path.join(path, \"t10k-images.idx3-ubyte\"))[16:].reshape(-1, 28, 28)\n",
    "y_test = load_idx(os.path.join(path, \"t10k-labels.idx1-ubyte\"))[8:]\n",
    "\n",
    "# Get val images\n",
    "x_val = x_train[-10000:]\n",
    "y_val = y_train[-10000:]\n",
    "x_train = x_train[:-10000]\n",
    "y_train = y_train[:-10000]\n",
    "\n",
    "print(\"Train images shape:\", x_train.shape)\n",
    "print(\"Train labels shape:\", y_train.shape)\n",
    "print(\"Validation images shape:\", x_val.shape)\n",
    "print(\"Validation labels shape:\", y_val.shape)\n",
    "print(\"Test images shape:\", x_test.shape)\n",
    "print(\"Test labels shape:\", y_test.shape)"
   ]
  },
  {
   "cell_type": "code",
   "execution_count": 46,
   "metadata": {},
   "outputs": [
    {
     "name": "stdout",
     "output_type": "stream",
     "text": [
      "La imagen mostrada corresponse a un: 5\n"
     ]
    },
    {
     "data": {
      "image/png": "[encoded data removed]",
      "text/plain": [
       "<Figure size 640x480 with 1 Axes>"
      ]
     },
     "metadata": {},
     "output_type": "display_data"
    }
   ],
   "source": [
    "def plt_image(image):\n",
    "    plt.imshow(image, cmap=plt.get_cmap('gray'))\n",
    "\n",
    "image1 = x_train[0]\n",
    "label1 = y_train[0]\n",
    "print(f'La imagen mostrada corresponse a un: {label1}')\n",
    "plt_image(image1)"
   ]
  },
  {
   "cell_type": "code",
   "execution_count": 47,
   "metadata": {},
   "outputs": [],
   "source": [
    "x_train = x_train.reshape(50000, -1)\n",
    "x_val = x_val.reshape(10000, -1)\n",
    "x_test = x_test.reshape(10000, -1)\n",
    "\n",
    "y_train = y_train.reshape(50000, -1)\n",
    "y_val = y_val.reshape(10000, -1)\n",
    "y_test = y_test.reshape(10000, -1)"
   ]
  },
  {
   "cell_type": "code",
   "execution_count": 48,
   "metadata": {},
   "outputs": [
    {
     "name": "stdout",
     "output_type": "stream",
     "text": [
      "Train images shape: (50000, 784)\n",
      "Train labels shape: (50000, 1)\n",
      "Validation images shape: (10000, 784)\n",
      "Validation labels shape: (10000, 1)\n",
      "Test images shape: (10000, 784)\n",
      "Test labels shape: (10000, 1)\n"
     ]
    }
   ],
   "source": [
    "print(\"Train images shape:\", x_train.shape)\n",
    "print(\"Train labels shape:\", y_train.shape)\n",
    "print(\"Validation images shape:\", x_val.shape)\n",
    "print(\"Validation labels shape:\", y_val.shape)\n",
    "print(\"Test images shape:\", x_test.shape)\n",
    "print(\"Test labels shape:\", y_test.shape)"
   ]
  },
  {
   "cell_type": "markdown",
   "metadata": {},
   "source": [
    "# Preprocessing"
   ]
  },
  {
   "cell_type": "code",
   "execution_count": 49,
   "metadata": {},
   "outputs": [],
   "source": [
    "def normalizeImage(x_data):\n",
    "    x_mean = np.mean(x_data)\n",
    "    x_std = np.std(x_data)\n",
    "    return (x_data - x_mean) / x_std\n",
    "\n",
    "\n",
    "x_train_normalize = normalizeImage(x_train)\n",
    "x_val_normalize = normalizeImage(x_val)\n",
    "x_test_normalize = normalizeImage(x_test)"
   ]
  },
  {
   "cell_type": "markdown",
   "metadata": {},
   "source": [
    "# Create Batch Generator"
   ]
  },
  {
   "cell_type": "code",
   "execution_count": 50,
   "metadata": {},
   "outputs": [],
   "source": [
    "def create_minibatches(x, y, batch_size, shuffle= True):\n",
    "    \"\"\"\n",
    "        This is a generator function that generates mini-batches of data.\n",
    "    \"\"\"\n",
    "    assert x.shape[0] == y.shape[0]\n",
    "    len_data = x.shape[0]\n",
    "    if shuffle:\n",
    "        idx = np.random.permutation(len_data)\n",
    "        x = x[idx]\n",
    "        y = y[idx]\n",
    "    return ((x[i:i+batch_size], y[i:i+batch_size]) for i in range(0, len_data, batch_size))"
   ]
  },
  {
   "cell_type": "markdown",
   "metadata": {},
   "source": [
    "## Init parameters"
   ]
  },
  {
   "cell_type": "code",
   "execution_count": null,
   "metadata": {},
   "outputs": [
    {
     "name": "stdout",
     "output_type": "stream",
     "text": [
      "W1 shape: (200, 784)\n",
      "b1 shape: (200, 1)\n",
      "W2 shape: (10, 200)\n",
      "b2 shape: (10, 1)\n"
     ]
    }
   ],
   "source": [
    "def init_parameters(input_size, neurons):\n",
    "    \"\"\"\n",
    "        This function initializes the weights and biases of the neural network.\n",
    "        - neurons: list containing the number of neurons in each layer.\n",
    "        - input_size: the size of the image.\n",
    "    \"\"\"\n",
    "    W1 = np.random.randn(neurons[0], input_size) * 0.001\n",
    "    b1 = np.zeros((neurons[0], 1))\n",
    "\n",
    "    W2 = np.random.randn(neurons[1], neurons[0]) * 0.001\n",
    "    b2 = np.zeros((neurons[1], 1))\n",
    "\n",
    "    return {'W1': W1, 'b1': b1, 'W2': W2, 'b2': b2}\n",
    "\n",
    "\n",
    "parameters = init_parameters(28*28, [200, 10])\n",
    "parameters2 = init_parameters()\n",
    "\n",
    "print(\"W1 shape:\", parameters['W1'].shape)\n",
    "print(\"b1 shape:\", parameters['b1'].shape)\n",
    "print(\"W2 shape:\", parameters['W2'].shape)\n",
    "print(\"b2 shape:\", parameters['b2'].shape)"
   ]
  },
  {
   "cell_type": "markdown",
   "metadata": {},
   "source": [
    "## Activation Function"
   ]
  },
  {
   "cell_type": "code",
   "execution_count": 52,
   "metadata": {},
   "outputs": [],
   "source": [
    "def relu(x):\n",
    "    return np.maximum(0, x)"
   ]
  },
  {
   "cell_type": "markdown",
   "metadata": {},
   "source": [
    "## Linear Pass"
   ]
  },
  {
   "cell_type": "code",
   "execution_count": 60,
   "metadata": {},
   "outputs": [],
   "source": [
    "def scores(x, parameters, activation_fcn):\n",
    "    z1 = parameters['W1'] @ x + parameters['b1']\n",
    "    a1 = activation_fcn(z1)\n",
    "    z2 = parameters['W2'] @ a1 + parameters['b2']\n",
    "    return z2, z1, a1"
   ]
  },
  {
   "cell_type": "code",
   "execution_count": 54,
   "metadata": {},
   "outputs": [
    {
     "name": "stdout",
     "output_type": "stream",
     "text": [
      "(64, 784)\n"
     ]
    }
   ],
   "source": [
    "print(x_train[:64].shape)"
   ]
  },
  {
   "cell_type": "code",
   "execution_count": 61,
   "metadata": {},
   "outputs": [],
   "source": [
    "scores, z1, a1 = scores(x_train[:64].T, parameters, relu)"
   ]
  },
  {
   "cell_type": "code",
   "execution_count": 62,
   "metadata": {},
   "outputs": [
    {
     "data": {
      "text/plain": [
       "(10, 64)"
      ]
     },
     "execution_count": 62,
     "metadata": {},
     "output_type": "execute_result"
    }
   ],
   "source": [
    "scores.shape"
   ]
  },
  {
   "cell_type": "markdown",
   "metadata": {},
   "source": [
    "## Softmax"
   ]
  },
  {
   "cell_type": "code",
   "execution_count": 76,
   "metadata": {},
   "outputs": [],
   "source": [
    "def softmax(x):\n",
    "    exp_x = np.exp(x)\n",
    "    sum_exp_scores = np.sum(exp_x, axis=0)\n",
    "    return exp_x / sum_exp_scores"
   ]
  },
  {
   "cell_type": "markdown",
   "metadata": {},
   "source": [
    "## Loss Function"
   ]
  },
  {
   "cell_type": "code",
   "execution_count": 77,
   "metadata": {},
   "outputs": [],
   "source": [
    "def cross_entropy(scores, y, batch_size):\n",
    "    probs = softmax(scores)\n",
    "    y_hat = probs[y.squeeze(), np.arange(batch_size)]\n",
    "    cost = np.sum(-np.log(y_hat))/batch_size\n",
    "    return probs, cost"
   ]
  },
  {
   "cell_type": "code",
   "execution_count": 87,
   "metadata": {},
   "outputs": [
    {
     "name": "stdout",
     "output_type": "stream",
     "text": [
      "(10, 64)\n"
     ]
    }
   ],
   "source": [
    "scores_shape = cross_entropy(scores, y_train[:64], 64)[0].shape\n",
    "print(scores_shape)"
   ]
  },
  {
   "cell_type": "code",
   "execution_count": 81,
   "metadata": {},
   "outputs": [
    {
     "data": {
      "text/plain": [
       "(50000,)"
      ]
     },
     "execution_count": 81,
     "metadata": {},
     "output_type": "execute_result"
    }
   ],
   "source": [
    "y_train.squeeze().shape"
   ]
  },
  {
   "cell_type": "markdown",
   "metadata": {},
   "source": [
    "## backward"
   ]
  },
  {
   "cell_type": "code",
   "execution_count": 88,
   "metadata": {},
   "outputs": [],
   "source": [
    "def backward(probs, x, y, z1, a1, parameters, batch_size):\n",
    "    grads = {}\n",
    "    # Subtract 1 to the correct class in each columns(batch_size)\n",
    "    probs[y.squeeze(), np.arange(batch_size)] -= 1\n",
    "    dz2 = probs.copy()\n",
    "\n",
    "    dw2 = dz2 @ a1.T / batch_size\n",
    "    db2 = np.sum(dz2, axis=1, keedpdims=True)/batch_size\n",
    "    da1 = parameters['W2'].T @ dz2\n",
    "\n",
    "    dz1 = da1.copy()\n",
    "    dz1[z1 <= 0] = 0\n",
    "\n",
    "    dW1 = dz1 @ x \n",
    "    db1 = np.sum(dz1, axis=1, keepdims=True)/batch_size\n",
    "\n",
    "    assert parameters['W1'].shape == dW1.shape\n",
    "    assert parameters['b1'].shape == db1.shape\n",
    "    assert parameters['W2'].shape == dw2.shape\n",
    "    assert parameters['b2'].shape == db2.shape\n",
    "\n",
    "    grads = {'w1': dW1, 'b1': db1, 'w2': dw2, 'b2': db2}\n",
    "\n",
    "    return grads\n",
    "     \n",
    "\n",
    "\n"
   ]
  },
  {
   "cell_type": "code",
   "execution_count": 90,
   "metadata": {},
   "outputs": [
    {
     "ename": "TypeError",
     "evalue": "sum() got an unexpected keyword argument 'keedpdims'",
     "output_type": "error",
     "traceback": [
      "\u001b[31m---------------------------------------------------------------------------\u001b[39m",
      "\u001b[31mTypeError\u001b[39m                                 Traceback (most recent call last)",
      "\u001b[36mCell\u001b[39m\u001b[36m \u001b[39m\u001b[32mIn[90]\u001b[39m\u001b[32m, line 2\u001b[39m\n\u001b[32m      1\u001b[39m y_hat, cost = cross_entropy(scores, y_train[:\u001b[32m64\u001b[39m], \u001b[32m64\u001b[39m)\n\u001b[32m----> \u001b[39m\u001b[32m2\u001b[39m grads = \u001b[43mbackward\u001b[49m\u001b[43m(\u001b[49m\u001b[43my_hat\u001b[49m\u001b[43m,\u001b[49m\u001b[43m \u001b[49m\u001b[43mx_train\u001b[49m\u001b[43m[\u001b[49m\u001b[43m:\u001b[49m\u001b[32;43m64\u001b[39;49m\u001b[43m]\u001b[49m\u001b[43m.\u001b[49m\u001b[43mT\u001b[49m\u001b[43m,\u001b[49m\u001b[43m \u001b[49m\u001b[43my_train\u001b[49m\u001b[43m[\u001b[49m\u001b[43m:\u001b[49m\u001b[32;43m64\u001b[39;49m\u001b[43m]\u001b[49m\u001b[43m,\u001b[49m\u001b[43m \u001b[49m\u001b[43mz1\u001b[49m\u001b[43m,\u001b[49m\u001b[43m \u001b[49m\u001b[43ma1\u001b[49m\u001b[43m,\u001b[49m\u001b[43m \u001b[49m\u001b[43mparameters\u001b[49m\u001b[43m,\u001b[49m\u001b[43m \u001b[49m\u001b[32;43m64\u001b[39;49m\u001b[43m)\u001b[49m\n",
      "\u001b[36mCell\u001b[39m\u001b[36m \u001b[39m\u001b[32mIn[88]\u001b[39m\u001b[32m, line 8\u001b[39m, in \u001b[36mbackward\u001b[39m\u001b[34m(probs, x, y, z1, a1, parameters, batch_size)\u001b[39m\n\u001b[32m      5\u001b[39m dz2 = probs.copy()\n\u001b[32m      7\u001b[39m dw2 = dz2 @ a1.T / batch_size\n\u001b[32m----> \u001b[39m\u001b[32m8\u001b[39m db2 = \u001b[43mnp\u001b[49m\u001b[43m.\u001b[49m\u001b[43msum\u001b[49m\u001b[43m(\u001b[49m\u001b[43mdz2\u001b[49m\u001b[43m,\u001b[49m\u001b[43m \u001b[49m\u001b[43maxis\u001b[49m\u001b[43m=\u001b[49m\u001b[32;43m1\u001b[39;49m\u001b[43m,\u001b[49m\u001b[43m \u001b[49m\u001b[43mkeedpdims\u001b[49m\u001b[43m=\u001b[49m\u001b[38;5;28;43;01mTrue\u001b[39;49;00m\u001b[43m)\u001b[49m/batch_size\n\u001b[32m      9\u001b[39m da1 = parameters[\u001b[33m'\u001b[39m\u001b[33mW2\u001b[39m\u001b[33m'\u001b[39m].T @ dz2\n\u001b[32m     11\u001b[39m dz1 = da1.copy()\n",
      "\u001b[31mTypeError\u001b[39m: sum() got an unexpected keyword argument 'keedpdims'"
     ]
    }
   ],
   "source": [
    "y_hat, cost = cross_entropy(scores, y_train[:64], 64)\n",
    "grads = backward(y_hat, x_train[:64].T, y_train[:64], z1, a1, parameters, 64)"
   ]
  },
  {
   "cell_type": "code",
   "execution_count": null,
   "metadata": {},
   "outputs": [],
   "source": [
    "def ejemplo_generador():\n",
    "    return (x for x in range(5)) "
   ]
  },
  {
   "cell_type": "code",
   "execution_count": 58,
   "metadata": {},
   "outputs": [
    {
     "data": {
      "text/plain": [
       "array([[ 2.20728979e-02,  2.55196681e-02,  8.17870211e-03,\n",
       "        -8.11345865e-03,  2.27898031e-02,  1.83221742e-02,\n",
       "         1.75256442e-02, -9.26830460e-03,  9.55067093e-03,\n",
       "         3.16028023e-02, -1.05713689e-02,  6.81202480e-03,\n",
       "        -2.81855401e-02,  1.72103468e-02,  1.21268048e-02,\n",
       "         6.03377083e-02,  9.58488964e-03,  2.99290697e-02,\n",
       "         1.50154235e-04,  4.02216450e-02,  4.59196887e-04,\n",
       "         1.04392977e-02,  2.07955401e-02, -7.52002629e-03,\n",
       "         7.11403508e-03, -2.13899693e-02, -1.41151534e-02,\n",
       "        -2.34514222e-02,  1.40319703e-02,  1.10741839e-02,\n",
       "        -3.68715621e-03,  2.14255281e-02,  2.21879702e-02,\n",
       "         3.42226726e-02,  8.13039963e-03,  1.54173037e-02,\n",
       "         1.62878260e-02,  2.48731959e-02,  2.44721524e-02,\n",
       "         2.65208284e-02, -6.66000341e-04,  2.11459679e-02,\n",
       "        -7.19981228e-04,  1.35135977e-02, -3.46152945e-03,\n",
       "         2.86079230e-03, -1.24771768e-03,  4.41184232e-02,\n",
       "        -2.66975236e-03, -3.94137037e-03, -3.65215524e-03,\n",
       "        -8.51558253e-03,  2.45981402e-02,  1.06703209e-02,\n",
       "         1.93673150e-02,  1.91219158e-02, -1.13485152e-02,\n",
       "         3.03347179e-02, -8.27571890e-03,  1.82378845e-03,\n",
       "         3.06156934e-02,  9.73273721e-03,  4.66681457e-03,\n",
       "        -1.38130008e-02],\n",
       "       [-7.31972417e-03,  2.58523624e-02, -2.17439243e-03,\n",
       "        -1.91494424e-02, -1.82186001e-02,  3.22834490e-03,\n",
       "         1.12257899e-02, -1.46748751e-02, -1.00786577e-02,\n",
       "        -4.34613625e-03, -9.76278470e-03, -4.07794892e-03,\n",
       "        -2.08859956e-02,  1.33699476e-02, -9.46880597e-03,\n",
       "         1.18010824e-02, -6.93643347e-03, -9.23049239e-03,\n",
       "        -9.78905420e-03, -8.21463752e-03, -4.21912497e-02,\n",
       "         2.05048981e-03, -2.74778296e-02, -1.15748880e-02,\n",
       "         3.46957988e-03, -1.73560076e-02,  5.55369893e-03,\n",
       "        -3.23335077e-02, -2.14735307e-03,  5.35669290e-03,\n",
       "        -1.91402151e-02, -2.95807770e-02,  5.94822737e-03,\n",
       "         7.39543732e-03, -2.10679241e-02,  1.10098449e-02,\n",
       "        -3.58110519e-02, -2.08986164e-03, -2.31003827e-02,\n",
       "         2.01922551e-02, -3.45620618e-02, -1.11679818e-02,\n",
       "         1.29480638e-02, -1.43177642e-02, -2.65107373e-02,\n",
       "        -6.84349425e-03, -1.93802425e-03,  2.00951765e-03,\n",
       "         1.70884146e-02, -2.61653617e-02, -7.80879511e-03,\n",
       "        -1.92453251e-02, -3.90777998e-04, -2.41605862e-02,\n",
       "         5.92312833e-03,  5.45928340e-03, -1.09516524e-02,\n",
       "        -5.80761451e-03, -4.11460010e-02, -2.37029997e-02,\n",
       "        -1.07002494e-02, -3.02464277e-02, -1.54155948e-02,\n",
       "        -2.93297939e-02],\n",
       "       [-2.64447645e-02, -1.29571624e-02, -3.97521112e-03,\n",
       "         7.77359114e-03,  2.38742026e-04, -2.65800710e-02,\n",
       "        -8.00690345e-03, -1.83850505e-02, -1.94943700e-02,\n",
       "        -2.03993393e-02, -8.02243485e-03, -2.93335333e-03,\n",
       "         5.46730889e-03, -2.70611466e-02, -2.91110088e-02,\n",
       "        -4.02654390e-03, -2.32210358e-03,  1.82132021e-02,\n",
       "        -2.32807148e-03, -1.90769720e-02, -3.23085973e-02,\n",
       "         6.90738062e-03, -1.57685403e-02,  7.68078377e-03,\n",
       "        -2.86896095e-02, -1.10170659e-02,  1.46076132e-03,\n",
       "        -9.49404147e-04,  3.23987785e-02,  1.15562251e-02,\n",
       "        -2.36680620e-02,  2.55783867e-02, -1.11108727e-02,\n",
       "         7.33021746e-03, -7.22123080e-03,  5.16193253e-03,\n",
       "        -4.21082271e-02, -2.85351463e-02,  2.70545704e-02,\n",
       "        -2.61295712e-02, -3.65175901e-03,  1.04320054e-03,\n",
       "        -1.53206969e-02, -1.31375482e-02, -1.60560365e-02,\n",
       "        -8.50627709e-03,  3.38565795e-02,  3.08436961e-02,\n",
       "        -2.37795386e-02, -1.81503344e-03,  2.45358613e-03,\n",
       "         7.96523475e-03, -1.43882403e-02, -1.31323287e-02,\n",
       "        -1.97420409e-02,  2.39818659e-02,  6.23180708e-03,\n",
       "        -1.13318380e-02,  3.51165598e-03, -3.06893109e-03,\n",
       "         9.40438723e-03, -1.27362355e-02, -3.79759572e-02,\n",
       "         2.93136845e-02],\n",
       "       [ 3.25586612e-02,  6.94128382e-02, -8.43865214e-03,\n",
       "         1.92882368e-02,  1.48797611e-02,  8.64017276e-03,\n",
       "         3.40980360e-02,  5.96754290e-03,  2.39103869e-02,\n",
       "         2.69528661e-02,  1.20351107e-02,  1.90297766e-02,\n",
       "         3.04320200e-02,  4.45183221e-03,  2.47936590e-02,\n",
       "         2.68945528e-02,  1.98558921e-02,  1.65452659e-02,\n",
       "         5.68464193e-04,  7.40391138e-03, -2.48668870e-02,\n",
       "         7.25402340e-02,  2.11759240e-03,  1.06291397e-02,\n",
       "         1.80551820e-02, -1.19217639e-03, -1.45617644e-02,\n",
       "         1.28841964e-02,  5.60946150e-02,  9.43445850e-03,\n",
       "         1.38329746e-02,  3.43346103e-02,  2.60943373e-03,\n",
       "         1.66073057e-02,  5.65753594e-03,  1.53959562e-02,\n",
       "        -1.11016553e-03,  2.74396521e-02,  5.61499160e-03,\n",
       "        -1.85104451e-02,  1.82363936e-02,  1.12063954e-02,\n",
       "        -4.19600478e-04,  1.26093071e-02,  1.77765604e-03,\n",
       "        -8.08255390e-03,  1.08146963e-02,  6.71034030e-03,\n",
       "         1.11745603e-02,  4.06241132e-02, -6.07445064e-03,\n",
       "         8.46717554e-02,  1.37082843e-02,  1.57125432e-02,\n",
       "         4.09635812e-03, -1.17771610e-02,  1.00356725e-01,\n",
       "         5.64239067e-04, -5.97537156e-03,  1.83828070e-02,\n",
       "         2.43088055e-02,  8.43183030e-03, -5.72555669e-04,\n",
       "         2.96431704e-02],\n",
       "       [-1.83253080e-04,  2.59528640e-02, -5.11852468e-03,\n",
       "         1.23041760e-02,  9.29893735e-03,  5.33772879e-03,\n",
       "         3.59335463e-02,  2.50529508e-02,  1.00066060e-02,\n",
       "         4.19613183e-02,  3.48880460e-02,  3.79573505e-02,\n",
       "         1.54600556e-02,  4.27050659e-02,  2.53944259e-02,\n",
       "         2.33171952e-02,  2.57246331e-02,  2.75405132e-02,\n",
       "         2.38896503e-02,  2.27872801e-02, -2.07759664e-02,\n",
       "         2.41511490e-02,  1.33022283e-02,  1.20302045e-02,\n",
       "         1.34372111e-02,  4.69448479e-02,  6.65482216e-03,\n",
       "         2.66409009e-02,  5.84990397e-02,  1.11017298e-02,\n",
       "         6.93216345e-03,  3.58700756e-02,  1.90150935e-02,\n",
       "         2.37751849e-02,  2.67025781e-02,  1.95188023e-02,\n",
       "         1.32963089e-02,  2.94179581e-02,  1.33419382e-02,\n",
       "         4.57325444e-02,  2.16219894e-02,  3.80808908e-02,\n",
       "         1.34822481e-02,  1.70818106e-02,  1.13491315e-03,\n",
       "         1.79173325e-02,  2.77513249e-02,  1.21673500e-02,\n",
       "         1.36487555e-02,  4.14680627e-03,  1.77319281e-02,\n",
       "         1.13494057e-02,  2.93876684e-02,  1.04799285e-02,\n",
       "         3.20358441e-02,  4.22502128e-02,  3.69678565e-02,\n",
       "         2.19379895e-02, -1.43766175e-02,  1.44123100e-02,\n",
       "         2.48088887e-02,  2.02909663e-02,  3.98653823e-02,\n",
       "         1.16894235e-02],\n",
       "       [-6.34945908e-02, -3.95515748e-02,  2.80207864e-03,\n",
       "        -3.81143288e-02,  2.63488799e-03, -3.29643300e-03,\n",
       "        -3.91462109e-02, -3.08842438e-02, -1.90745617e-02,\n",
       "        -2.53401487e-02, -3.99900679e-02, -1.25120866e-02,\n",
       "        -3.45266024e-02, -5.08927649e-03, -3.45334332e-02,\n",
       "         1.56516353e-05,  1.79983743e-02, -5.43468990e-02,\n",
       "        -1.74369272e-02, -1.54962820e-02, -1.22762583e-02,\n",
       "        -3.67707107e-02, -1.90683892e-02, -3.33858709e-02,\n",
       "        -4.69349442e-03, -4.45928660e-02, -1.80339787e-02,\n",
       "        -5.02387166e-02, -2.21053790e-03, -5.64807252e-03,\n",
       "        -1.01903614e-02, -5.65767846e-02, -4.16128091e-03,\n",
       "        -3.15561013e-02, -6.03003797e-02, -1.32085362e-02,\n",
       "        -4.21015369e-02, -2.81339362e-02, -1.28162068e-02,\n",
       "        -1.62717595e-02, -2.22181180e-02, -6.43694145e-02,\n",
       "        -3.45562489e-03, -2.11960268e-02, -1.26958759e-02,\n",
       "        -1.71526515e-02, -6.28603007e-02, -2.76168174e-02,\n",
       "        -3.98143467e-03, -4.55444488e-02, -2.04143907e-02,\n",
       "        -4.56449217e-02,  1.79864456e-02, -2.78329596e-02,\n",
       "        -1.14328917e-02, -3.65170681e-02, -3.65977987e-02,\n",
       "        -7.89752671e-03, -1.41793486e-02, -4.57796648e-02,\n",
       "        -3.91285864e-03, -1.08988712e-02, -4.25335973e-02,\n",
       "        -7.51784547e-02],\n",
       "       [-2.80122702e-02, -3.57222016e-02,  8.82736632e-03,\n",
       "        -2.05927387e-02,  1.12034725e-02, -3.63591967e-03,\n",
       "         2.18585641e-02, -3.78445205e-02,  8.93434214e-03,\n",
       "         1.33325044e-02, -2.50269303e-02, -5.14341684e-03,\n",
       "        -7.77088078e-03, -2.29845616e-03, -1.01605065e-03,\n",
       "         2.25876130e-03, -1.35155562e-02, -1.14322038e-02,\n",
       "         5.81069014e-03,  5.65958455e-03,  3.75845794e-03,\n",
       "        -2.80629385e-02,  6.64597800e-03, -1.93676086e-02,\n",
       "        -5.64917668e-03, -6.04302840e-02, -1.61843484e-03,\n",
       "        -3.98634783e-02,  8.91209324e-03,  2.09421006e-02,\n",
       "        -1.36852134e-02, -3.55236629e-02,  2.28971962e-02,\n",
       "         8.39558583e-03, -7.76124160e-03,  5.11129890e-03,\n",
       "        -1.22033115e-02, -2.40600320e-02, -3.28834421e-03,\n",
       "         1.37082036e-02, -8.45853551e-03, -1.76574332e-02,\n",
       "        -2.75406794e-03,  2.23640279e-02, -8.32599912e-03,\n",
       "         7.62569071e-03,  5.40895842e-03, -1.21283284e-02,\n",
       "         9.61452566e-03, -2.64460788e-02, -8.23468671e-03,\n",
       "        -3.14996034e-02, -1.26587902e-03,  1.57233034e-04,\n",
       "        -2.43797020e-03,  2.37874703e-02, -1.41574668e-02,\n",
       "        -1.17198208e-02, -8.02104238e-03, -2.66309281e-02,\n",
       "         6.57765047e-03,  4.87858560e-03,  7.09150730e-03,\n",
       "        -2.46346188e-03],\n",
       "       [ 5.70340723e-03,  3.92080271e-02,  2.44031814e-02,\n",
       "         1.29158397e-02,  1.16281375e-02,  1.27579744e-02,\n",
       "         1.29875729e-02,  4.57120820e-02,  5.28188143e-03,\n",
       "         4.56418643e-03,  3.71387469e-02, -1.58940610e-02,\n",
       "        -1.44155823e-03,  2.99190503e-02,  2.41330826e-02,\n",
       "        -3.71771485e-03,  8.04588915e-03,  2.55301539e-02,\n",
       "        -1.53689174e-02, -1.58919568e-04, -2.27522196e-03,\n",
       "         5.70862061e-02, -1.11364134e-02,  1.37031540e-02,\n",
       "         3.49384572e-02,  2.05514106e-02,  2.35193842e-02,\n",
       "         2.28677280e-02, -4.57346701e-04, -9.89851131e-03,\n",
       "         2.34478938e-02,  2.63782463e-02,  1.46850312e-02,\n",
       "         1.17895273e-02,  1.83073583e-02,  2.84397664e-02,\n",
       "        -1.95452146e-03,  2.09515787e-02,  9.37471877e-03,\n",
       "         1.43588005e-02,  2.67428049e-02,  1.70051021e-02,\n",
       "         3.10200323e-02,  2.03650654e-02,  7.27449125e-03,\n",
       "         3.61331012e-02,  4.07730506e-02,  2.42233918e-02,\n",
       "         3.60911232e-02,  3.28533323e-02,  2.25499435e-02,\n",
       "         6.98777855e-02,  1.73776260e-02, -1.06975467e-04,\n",
       "         2.31684991e-02,  1.55537304e-02,  2.47540899e-02,\n",
       "         1.34767150e-02,  2.06113867e-02,  2.12957438e-02,\n",
       "        -6.11851358e-03,  5.27105536e-03,  4.12203225e-03,\n",
       "         7.46805218e-02],\n",
       "       [ 1.34660234e-02,  4.65709756e-03,  1.29707428e-03,\n",
       "         6.15563683e-04, -2.06840795e-03, -2.72109893e-03,\n",
       "         2.10370356e-02, -1.98571378e-02,  1.91023660e-02,\n",
       "         1.99623440e-02, -5.36252574e-03,  2.09263042e-02,\n",
       "         9.53050525e-03,  4.48249220e-03,  2.55221114e-02,\n",
       "        -7.23279759e-03,  1.00896392e-02,  9.89982115e-03,\n",
       "         1.39458141e-04,  4.47660264e-03,  8.37581008e-03,\n",
       "        -4.46765817e-03,  1.84322257e-02, -2.58649846e-03,\n",
       "         2.26487708e-02, -2.58052395e-05, -3.46721287e-03,\n",
       "        -1.35193454e-02,  7.76973580e-03,  2.90472051e-03,\n",
       "         7.67629164e-03,  1.72317787e-02,  1.27352750e-02,\n",
       "         5.27195683e-03, -4.70409687e-03,  1.00353669e-02,\n",
       "         2.22112391e-02, -3.86490716e-03,  1.61914991e-02,\n",
       "        -4.09011514e-03,  1.97987943e-02, -2.40256964e-03,\n",
       "         8.55521035e-03,  1.02299471e-03,  3.60321978e-03,\n",
       "        -4.30718402e-03, -3.13316592e-02, -5.86035871e-03,\n",
       "         1.52387695e-02,  3.02753425e-03,  4.24691471e-03,\n",
       "        -3.09069066e-02, -8.21555393e-03,  7.49327078e-03,\n",
       "        -6.91250887e-04, -1.30420637e-03, -2.84925325e-02,\n",
       "         7.37169519e-03, -1.63130660e-02,  5.17832899e-05,\n",
       "         5.88213627e-02,  1.01929193e-02,  2.49517705e-02,\n",
       "        -2.93521984e-02],\n",
       "       [-3.17513999e-03,  5.53621990e-03, -1.25156221e-02,\n",
       "         1.95203048e-03, -1.35915394e-03,  1.99034535e-02,\n",
       "         7.61274909e-03, -7.07288557e-04, -1.05979734e-02,\n",
       "         6.50656224e-03, -1.11471175e-04,  2.25771787e-03,\n",
       "        -2.40863416e-02,  1.45969108e-02, -2.70704928e-02,\n",
       "         2.48835944e-02,  2.63684102e-02, -7.52318090e-03,\n",
       "        -1.13366767e-02, -6.46962281e-03, -1.02702980e-02,\n",
       "         6.89578081e-03,  1.09403655e-02, -9.70649413e-06,\n",
       "         3.33494982e-02,  1.15294898e-02,  1.52913986e-02,\n",
       "         7.68936303e-03, -5.51994070e-04,  1.09068553e-02,\n",
       "         1.91797625e-02, -1.51025467e-02,  8.35831843e-03,\n",
       "        -3.50068443e-03,  2.37184303e-03, -4.95877241e-03,\n",
       "         2.16815306e-04,  2.17938762e-02,  1.63665657e-02,\n",
       "         3.18486140e-02, -1.28008704e-02, -1.68747092e-03,\n",
       "         1.25719141e-03, -2.27940593e-02,  4.20891037e-03,\n",
       "         5.07872730e-03,  4.84789784e-02,  5.10945572e-03,\n",
       "         8.77709413e-03, -1.18500887e-02,  2.56618457e-03,\n",
       "         2.94401510e-02,  2.07508013e-02, -4.58830401e-03,\n",
       "        -5.47543685e-03, -2.80749622e-03,  1.15461982e-02,\n",
       "        -3.96604647e-03,  3.78291698e-02, -2.82667734e-03,\n",
       "        -2.11219546e-03,  9.70761633e-04,  7.83757381e-03,\n",
       "         7.20619366e-03]])"
      ]
     },
     "execution_count": 58,
     "metadata": {},
     "output_type": "execute_result"
    }
   ],
   "source": [
    "scores"
   ]
  },
  {
   "cell_type": "code",
   "execution_count": null,
   "metadata": {},
   "outputs": [
    {
     "name": "stdout",
     "output_type": "stream",
     "text": [
      "0\n",
      "1\n",
      "2\n",
      "3\n",
      "4\n"
     ]
    }
   ],
   "source": [
    "gen = ejemplo_generador()\n",
    "print(next(gen))\n",
    "print(next(gen))\n",
    "print(next(gen))\n",
    "print(next(gen))\n",
    "print(next(gen))\n"
   ]
  }
 ],
 "metadata": {
  "kernelspec": {
   "display_name": "entornoJupyter",
   "language": "python",
   "name": "python3"
  },
  "language_info": {
   "codemirror_mode": {
    "name": "ipython",
    "version": 3
   },
   "file_extension": ".py",
   "mimetype": "text/x-python",
   "name": "python",
   "nbconvert_exporter": "python",
   "pygments_lexer": "ipython3",
   "version": "3.12.3"
  }
 },
 "nbformat": 4,
 "nbformat_minor": 2
}
