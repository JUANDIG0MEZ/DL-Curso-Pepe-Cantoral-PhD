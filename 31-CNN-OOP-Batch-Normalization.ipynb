{
 "cells": [
  {
   "cell_type": "markdown",
   "metadata": {},
   "source": [
    "$ h_{out} = \\frac{1}{2}$"
   ]
  },
  {
   "cell_type": "markdown",
   "metadata": {},
   "source": [
    "# Convolucional Neuronal Network"
   ]
  },
  {
   "cell_type": "code",
   "execution_count": 1,
   "metadata": {},
   "outputs": [],
   "source": [
    "import numpy as np\n",
    "import torch\n",
    "import torch.nn as nn\n",
    "import torch.nn.functional as F\n",
    "\n",
    "# \n",
    "from torch.utils.data import DataLoader\n",
    "from torch.utils.data import sampler\n",
    "import torchvision.datasets as datasets\n",
    "import torchvision.transforms as T\n",
    "from torchvision import models\n",
    "import matplotlib.pyplot as plt"
   ]
  },
  {
   "cell_type": "markdown",
   "metadata": {},
   "source": [
    "## Upload database"
   ]
  },
  {
   "cell_type": "code",
   "execution_count": 2,
   "metadata": {},
   "outputs": [],
   "source": [
    "data_path = '/home/juangomez/Desktop/ML/Cursos/Pepe Cantoral/datasets'\n",
    "num_train = 50000\n",
    "num_val = 5000\n",
    "num_test = 5000\n",
    "batch_size = 64\n",
    "\n",
    "\n",
    "transform_cifar = T.Compose([\n",
    "    T.ToTensor(),\n",
    "    T.Normalize([0.491, 0.482, 0.447], [0.247, 0.243, 0.261])\n",
    "])\n",
    "\n",
    "# Training set\n",
    "cifar10_train = datasets.CIFAR10(\n",
    "    data_path,\n",
    "    train=True,\n",
    "    download=True,\n",
    "    transform=transform_cifar)\n",
    "train_loader = DataLoader(\n",
    "    cifar10_train,\n",
    "    batch_size=batch_size,\n",
    "    sampler=sampler.SubsetRandomSampler(range(num_train)))\n",
    "\n",
    "# Validation set\n",
    "cifar10_val = datasets.CIFAR10(\n",
    "    data_path,\n",
    "    train= False,\n",
    "    download=True,\n",
    "    transform=transform_cifar)\n",
    "val_loader = DataLoader(\n",
    "    cifar10_val,\n",
    "    batch_size=batch_size,\n",
    "    sampler=sampler.SubsetRandomSampler(range(num_val)))\n",
    "\n",
    "# Test set\n",
    "cifar10_test = datasets.CIFAR10(\n",
    "    data_path,\n",
    "    train=False,\n",
    "    download=True,\n",
    "    transform= transform_cifar)\n",
    "test_loader = DataLoader(\n",
    "    cifar10_test,\n",
    "    batch_size=batch_size,\n",
    "    sampler=sampler.SubsetRandomSampler(range(num_test, num_test + num_val))\n",
    ")\n"
   ]
  },
  {
   "cell_type": "code",
   "execution_count": 3,
   "metadata": {},
   "outputs": [
    {
     "name": "stdout",
     "output_type": "stream",
     "text": [
      "torch.Size([64, 3, 32, 32])\n"
     ]
    }
   ],
   "source": [
    "# this make a generator\n",
    "data_iter = iter(train_loader)\n",
    "# get the first batch\n",
    "images, labels = next(data_iter)\n",
    "print(images.shape)"
   ]
  },
  {
   "cell_type": "markdown",
   "metadata": {},
   "source": [
    "# Choose Device"
   ]
  },
  {
   "cell_type": "code",
   "execution_count": 4,
   "metadata": {},
   "outputs": [
    {
     "name": "stdout",
     "output_type": "stream",
     "text": [
      "cpu\n"
     ]
    }
   ],
   "source": [
    "if torch.cuda.is_available():\n",
    "    device = torch.device(\"cuda\")\n",
    "else:\n",
    "    device = torch.device(\"cpu\")\n",
    "print(device)"
   ]
  },
  {
   "cell_type": "markdown",
   "metadata": {},
   "source": [
    "## Show images"
   ]
  },
  {
   "cell_type": "code",
   "execution_count": 5,
   "metadata": {},
   "outputs": [
    {
     "name": "stdout",
     "output_type": "stream",
     "text": [
      "Show the image 0 of the batch 7. Class: \n"
     ]
    },
    {
     "data": {
      "image/png": "[encoded data removed]",
      "text/plain": [
       "<Figure size 640x480 with 1 Axes>"
      ]
     },
     "metadata": {},
     "output_type": "display_data"
    }
   ],
   "source": [
    "classes = ['Plane', 'Car', 'Bird', 'Cat', 'Deer', 'Dog', 'Frog', 'Horse', 'Ship', 'Truck']\n",
    "\n",
    "def plot_figure(image):\n",
    "    plt.imshow(image.permute(1, 2, 0))\n",
    "    plt.axis('off')\n",
    "    plt.show()\n",
    "\n",
    "idx= np.random.randint(len(test_loader))\n",
    "print(f'Show the image 0 of the batch {idx}. Class: ')\n",
    "image = test_loader.dataset[idx][0]\n",
    "image = (image- image.min())/(image.max()-image.min())\n",
    "plot_figure(image)"
   ]
  },
  {
   "cell_type": "markdown",
   "metadata": {},
   "source": [
    "# Accuracy\n"
   ]
  },
  {
   "cell_type": "code",
   "execution_count": 6,
   "metadata": {},
   "outputs": [],
   "source": [
    "def accuracy(model, loader):\n",
    "    num_correct = 0\n",
    "    num_total = 0\n",
    "    model.eval()\n",
    "    model.to(device)\n",
    "    with torch.no_grad():\n",
    "        for xi, yi in loader:\n",
    "            xi = xi.to(device)\n",
    "            yi = yi.to(device)\n",
    "            scores = model(xi)\n",
    "            # Compute the max in each row for each image of the batch\n",
    "            _, preds = scores.max(1)\n",
    "            num_correct += (preds == yi).sum()\n",
    "            num_total += len(yi)\n",
    "        return float(num_correct) / num_total"
   ]
  },
  {
   "cell_type": "markdown",
   "metadata": {},
   "source": [
    "# Training Loop"
   ]
  },
  {
   "cell_type": "code",
   "execution_count": 7,
   "metadata": {},
   "outputs": [],
   "source": [
    "def train(model, optimizer, epochs=100):\n",
    "    model = model.to(device = device)\n",
    "    for epoch in range(epochs):\n",
    "        model.train()\n",
    "        for (xi, yi) in train_loader:\n",
    "            xi = xi.to(device = device, dtype=torch.float32)\n",
    "            yi = yi.to(device = device, dtype=torch.long)\n",
    "            scores = model(xi)\n",
    "\n",
    "            cost = F.cross_entropy(input=scores, target=yi.squeeze())\n",
    "\n",
    "            optimizer.zero_grad()\n",
    "            cost.backward()\n",
    "            optimizer.step()\n",
    "        acc = accuracy(model, val_loader)\n",
    "        if epoch%1 == 0:\n",
    "            print(f'Epoch {epoch}, Cost: {cost.item()}, accuracy: {acc}')\n"
   ]
  },
  {
   "cell_type": "markdown",
   "metadata": {},
   "source": [
    "# Secuential linear"
   ]
  },
  {
   "cell_type": "code",
   "execution_count": 8,
   "metadata": {},
   "outputs": [
    {
     "name": "stdout",
     "output_type": "stream",
     "text": [
      "Epoch 0, Cost: 1.4126169681549072, accuracy: 0.3842\n",
      "Epoch 1, Cost: 1.751052737236023, accuracy: 0.4476\n",
      "Epoch 2, Cost: 1.5607020854949951, accuracy: 0.4568\n",
      "Epoch 3, Cost: 1.5625749826431274, accuracy: 0.5054\n",
      "Epoch 4, Cost: 1.1747633218765259, accuracy: 0.5176\n",
      "Epoch 5, Cost: 1.312883973121643, accuracy: 0.5238\n",
      "Epoch 6, Cost: 1.3143444061279297, accuracy: 0.5248\n",
      "Epoch 7, Cost: 0.93155837059021, accuracy: 0.5424\n",
      "Epoch 8, Cost: 1.0614793300628662, accuracy: 0.5314\n",
      "Epoch 9, Cost: 0.6877937316894531, accuracy: 0.5404\n"
     ]
    }
   ],
   "source": [
    "hidden1 = 256\n",
    "hidden2 = 256\n",
    "lr = 1e-3\n",
    "epochs = 10\n",
    "model = nn.Sequential(\n",
    "    nn.Flatten(),\n",
    "    nn.Linear(in_features = 3*32*32, out_features=hidden1), nn.ReLU(),\n",
    "    nn.Linear(in_features = hidden1, out_features=hidden2), nn.ReLU(),\n",
    "    nn.Linear(in_features = hidden2, out_features=10), nn.ReLU()\n",
    ")\n",
    "\n",
    "optimizer = torch.optim.Adam(model.parameters(), lr=lr, betas= (0.9, 0.999))\n",
    "train(model, optimizer, epochs=epochs)"
   ]
  },
  {
   "cell_type": "markdown",
   "metadata": {},
   "source": [
    "# Sequetial CNN"
   ]
  },
  {
   "cell_type": "code",
   "execution_count": 9,
   "metadata": {},
   "outputs": [
    {
     "name": "stdout",
     "output_type": "stream",
     "text": [
      "Epoch 0, Cost: 1.190395712852478, accuracy: 0.6196\n",
      "Epoch 1, Cost: 0.6175928711891174, accuracy: 0.6568\n",
      "Epoch 2, Cost: 0.9208447933197021, accuracy: 0.668\n",
      "Epoch 3, Cost: 0.5663272142410278, accuracy: 0.6658\n",
      "Epoch 4, Cost: 0.7299443483352661, accuracy: 0.671\n",
      "Epoch 5, Cost: 0.7757601141929626, accuracy: 0.669\n",
      "Epoch 6, Cost: 1.0843104124069214, accuracy: 0.6644\n",
      "Epoch 7, Cost: 0.6079903841018677, accuracy: 0.66\n",
      "Epoch 8, Cost: 0.2677011489868164, accuracy: 0.658\n",
      "Epoch 9, Cost: 0.6290624737739563, accuracy: 0.659\n"
     ]
    }
   ],
   "source": [
    "channel1 = 16\n",
    "channel2 = 32\n",
    "epochs = 10\n",
    "lr = 1e-3\n",
    "\n",
    "modelCNN1 = nn.Sequential(\n",
    "    nn.Conv2d(in_channels=3, out_channels=channel1, kernel_size=3, stride=1, padding=1),\n",
    "    nn.ReLU(),\n",
    "    nn.Conv2d(in_channels=channel1, out_channels=channel2, kernel_size=3, stride=1, padding=1),\n",
    "    nn.ReLU(),\n",
    "    nn.MaxPool2d(kernel_size=2, stride=2),\n",
    "    nn.Flatten(),\n",
    "    nn.Linear(in_features=16*16*channel2, out_features=10)\n",
    ")\n",
    "\n",
    "optimizer = torch.optim.Adam(modelCNN1.parameters(), lr=lr, betas= (0.9, 0.999))\n",
    "train(modelCNN1, optimizer, epochs=epochs)"
   ]
  },
  {
   "cell_type": "code",
   "execution_count": 10,
   "metadata": {},
   "outputs": [
    {
     "name": "stdout",
     "output_type": "stream",
     "text": [
      "Accuracy test: 0.646\n"
     ]
    }
   ],
   "source": [
    "acc = accuracy(modelCNN1, test_loader)\n",
    "print(f'Accuracy test: {acc}')"
   ]
  },
  {
   "cell_type": "markdown",
   "metadata": {},
   "source": [
    "# OOP"
   ]
  },
  {
   "cell_type": "code",
   "execution_count": 11,
   "metadata": {},
   "outputs": [],
   "source": [
    "class CNN_class1(nn.Module):\n",
    "    def __init__(self, in_channels, channel1, channel2):\n",
    "        super(CNN_class1, self).__init__()\n",
    "        self.conv1 = nn.Conv2d(in_channels=in_channels, out_channels=channel1, kernel_size=3, stride=1, padding=1)\n",
    "        self.conv2 = nn.Conv2d(in_channels=channel1, out_channels=channel2, kernel_size=3, stride=1, padding=1)\n",
    "        self.pool = nn.MaxPool2d(kernel_size=2, stride=2)\n",
    "        self.flatten = nn.Flatten()\n",
    "        self.fc = nn.Linear(in_features=16*16*channel2, out_features=10)\n",
    "        \n",
    "    \n",
    "    def forward(self, x):\n",
    "        x = self.conv1(x)\n",
    "        x = F.relu(x)\n",
    "        x = self.conv2(x)\n",
    "        x = F.relu(x)\n",
    "        x = self.pool(x)\n",
    "        x = self.flatten(x)\n",
    "        x = self.fc(x)\n",
    "        return x\n"
   ]
  },
  {
   "cell_type": "code",
   "execution_count": 12,
   "metadata": {},
   "outputs": [
    {
     "name": "stdout",
     "output_type": "stream",
     "text": [
      "Epoch 0, Cost: 1.1882120370864868, accuracy: 0.6226\n",
      "Epoch 1, Cost: 1.7210500240325928, accuracy: 0.6624\n",
      "Epoch 2, Cost: 0.6148368716239929, accuracy: 0.6738\n",
      "Epoch 3, Cost: 0.28657543659210205, accuracy: 0.6816\n",
      "Epoch 4, Cost: 0.41394874453544617, accuracy: 0.6698\n",
      "Epoch 5, Cost: 0.37266805768013, accuracy: 0.6668\n",
      "Epoch 6, Cost: 1.093558430671692, accuracy: 0.6686\n",
      "Epoch 7, Cost: 0.5645772814750671, accuracy: 0.669\n",
      "Epoch 8, Cost: 0.39643940329551697, accuracy: 0.658\n",
      "Epoch 9, Cost: 0.3360040783882141, accuracy: 0.6652\n"
     ]
    }
   ],
   "source": [
    "channel1 = 16\n",
    "channel2 = 32\n",
    "epochs = 10\n",
    "lr = 1e-3\n",
    "\n",
    "modelCNN2 = CNN_class1(in_channels=3, channel1=channel1, channel2=channel2)\n",
    "optimizer = torch.optim.Adam(modelCNN2.parameters(), lr=lr, betas= (0.9, 0.999))\n",
    "train(modelCNN2, optimizer, epochs=epochs)"
   ]
  },
  {
   "cell_type": "code",
   "execution_count": 13,
   "metadata": {},
   "outputs": [
    {
     "name": "stdout",
     "output_type": "stream",
     "text": [
      "Accuracy test: 0.647\n"
     ]
    }
   ],
   "source": [
    "acc = accuracy(modelCNN2, test_loader)\n",
    "print(f'Accuracy test: {acc}')"
   ]
  },
  {
   "cell_type": "markdown",
   "metadata": {},
   "source": [
    "## A little more elegant"
   ]
  },
  {
   "cell_type": "code",
   "execution_count": 14,
   "metadata": {},
   "outputs": [],
   "source": [
    "conv_k_3 = lambda channel1, channel2: nn.Conv2d(in_channels=channel1, out_channels=channel2, kernel_size=3, stride=1, padding=1)\n",
    "class CNN_class2(nn.Module):\n",
    "    def __init__(self, in_channels, channel1, channel2):\n",
    "        super(CNN_class2, self).__init__()\n",
    "        self.conv1 = conv_k_3(in_channels, channel1)\n",
    "        nn.init.kaiming_uniform_(self.conv1.weight)\n",
    "        self.conv2 = conv_k_3(channel1, channel2)\n",
    "        self.pool = nn.MaxPool2d(kernel_size=2, stride=2)\n",
    "        self.flatten = nn.Flatten()\n",
    "        self.fc = nn.Linear(in_features=16*16*channel2, out_features=10)\n",
    "        \n",
    "    \n",
    "    def forward(self, x):\n",
    "        x = self.conv1(x)\n",
    "        x = F.relu(x)\n",
    "        x = self.conv2(x)\n",
    "        x = F.relu(x)\n",
    "        x = self.pool(x)\n",
    "        x = self.flatten(x)\n",
    "        x = self.fc(x)\n",
    "        return x"
   ]
  },
  {
   "cell_type": "code",
   "execution_count": 15,
   "metadata": {},
   "outputs": [
    {
     "name": "stdout",
     "output_type": "stream",
     "text": [
      "Epoch 0, Cost: 0.7606487274169922, accuracy: 0.6262\n",
      "Epoch 1, Cost: 0.8576793074607849, accuracy: 0.6704\n",
      "Epoch 2, Cost: 0.2783229947090149, accuracy: 0.6776\n",
      "Epoch 3, Cost: 0.5572323203086853, accuracy: 0.6852\n",
      "Epoch 4, Cost: 0.8928136825561523, accuracy: 0.6682\n",
      "Epoch 5, Cost: 1.004603624343872, accuracy: 0.6726\n",
      "Epoch 6, Cost: 1.216575264930725, accuracy: 0.676\n",
      "Epoch 7, Cost: 0.27358055114746094, accuracy: 0.6638\n",
      "Epoch 8, Cost: 0.48827487230300903, accuracy: 0.6616\n",
      "Epoch 9, Cost: 0.5480047464370728, accuracy: 0.6486\n"
     ]
    }
   ],
   "source": [
    "channel1 = 16\n",
    "channel2 = 32\n",
    "epochs = 10\n",
    "lr = 1e-3\n",
    "\n",
    "modelCNN3 = CNN_class2(in_channels=3, channel1=channel1, channel2=channel2)\n",
    "optimizer = torch.optim.Adam(modelCNN3.parameters(), lr=lr, betas= (0.9, 0.999))\n",
    "train(modelCNN3, optimizer, epochs=epochs)"
   ]
  },
  {
   "cell_type": "markdown",
   "metadata": {},
   "source": [
    "# Batch Normalization"
   ]
  },
  {
   "cell_type": "code",
   "execution_count": 19,
   "metadata": {},
   "outputs": [],
   "source": [
    "conv_k_3 = lambda channel1, channel2: nn.Conv2d(in_channels=channel1, out_channels=channel2, kernel_size=3, stride=1, padding=1)\n",
    "class CNN_class3(nn.Module):\n",
    "    def __init__(self, in_channels, channel1, channel2):\n",
    "        super(CNN_class3, self).__init__()\n",
    "        \n",
    "        self.conv1 = conv_k_3(in_channels, channel1)\n",
    "        self.bn1 = nn.BatchNorm2d(channel1)\n",
    "\n",
    "        self.conv2 = conv_k_3(channel1, channel2)\n",
    "        self.bn2 = nn.BatchNorm2d(channel2)\n",
    "        \n",
    "        self.pool = nn.MaxPool2d(kernel_size=2, stride=2)\n",
    "        self.flatten = nn.Flatten()\n",
    "        self.fc = nn.Linear(in_features=16*16*channel2, out_features=10)\n",
    "        \n",
    "    \n",
    "    def forward(self, x):\n",
    "        x = self.conv1(x)\n",
    "        x = self.bn1(x)\n",
    "        x = F.relu(x)\n",
    "        x = self.conv2(x)\n",
    "        x = self.bn2(x)\n",
    "        x = F.relu(x)\n",
    "        x = self.pool(x)\n",
    "        x = self.flatten(x)\n",
    "        x = self.fc(x)\n",
    "        return x"
   ]
  },
  {
   "cell_type": "code",
   "execution_count": 20,
   "metadata": {},
   "outputs": [
    {
     "name": "stdout",
     "output_type": "stream",
     "text": [
      "Epoch 0, Cost: 1.0528945922851562, accuracy: 0.588\n",
      "Epoch 1, Cost: 0.9546079039573669, accuracy: 0.6432\n",
      "Epoch 2, Cost: 1.220665693283081, accuracy: 0.674\n",
      "Epoch 3, Cost: 0.6940227150917053, accuracy: 0.673\n",
      "Epoch 4, Cost: 0.666777491569519, accuracy: 0.6634\n",
      "Epoch 5, Cost: 0.5250480771064758, accuracy: 0.6884\n",
      "Epoch 6, Cost: 1.1143407821655273, accuracy: 0.6806\n",
      "Epoch 7, Cost: 0.8966401219367981, accuracy: 0.6876\n",
      "Epoch 8, Cost: 0.7281394600868225, accuracy: 0.6724\n",
      "Epoch 9, Cost: 0.24208472669124603, accuracy: 0.6762\n"
     ]
    }
   ],
   "source": [
    "channel1 = 16\n",
    "channel2 = 32\n",
    "epochs = 10\n",
    "lr = 1e-3\n",
    "\n",
    "modelCNN4 = CNN_class3(in_channels=3, channel1=channel1, channel2=channel2)\n",
    "optimizer = torch.optim.Adam(modelCNN4.parameters(), lr=lr, betas= (0.9, 0.999))\n",
    "train(modelCNN4, optimizer, epochs=epochs)"
   ]
  },
  {
   "cell_type": "markdown",
   "metadata": {},
   "source": [
    "# USING POO and Sequential"
   ]
  },
  {
   "cell_type": "code",
   "execution_count": 21,
   "metadata": {},
   "outputs": [],
   "source": [
    "conv_k_3 = lambda channel1, channel2: nn.Conv2d(in_channels=channel1, out_channels=channel2, kernel_size=3, stride=1, padding=1)\n",
    "class CNN_class4(nn.Module):\n",
    "    def __init__(self, in_channels, channel1, channel2):\n",
    "        super(CNN_class4, self).__init__()\n",
    "        \n",
    "        self.conv1 = conv_k_3(in_channels, channel1)\n",
    "        self.bn1 = nn.BatchNorm2d(channel1)\n",
    "\n",
    "        self.conv2 = conv_k_3(channel1, channel2)\n",
    "        self.bn2 = nn.BatchNorm2d(channel2)\n",
    "        \n",
    "        self.pool = nn.MaxPool2d(kernel_size=2, stride=2)\n",
    "        # self.flatten = nn.Flatten()\n",
    "        # self.fc = nn.Linear(in_features=16*16*channel2, out_features=10)\n",
    "        \n",
    "    \n",
    "    def forward(self, x):\n",
    "        x = self.conv1(x)\n",
    "        x = self.bn1(x)\n",
    "        x = F.relu(x)\n",
    "        x = self.conv2(x)\n",
    "        x = self.bn2(x)\n",
    "        x = F.relu(x)\n",
    "        x = self.pool(x)\n",
    "        return x"
   ]
  },
  {
   "cell_type": "code",
   "execution_count": 22,
   "metadata": {},
   "outputs": [
    {
     "name": "stdout",
     "output_type": "stream",
     "text": [
      "Epoch 0, Cost: 1.2154837846755981, accuracy: 0.6316\n",
      "Epoch 1, Cost: 0.9955135583877563, accuracy: 0.7136\n",
      "Epoch 2, Cost: 0.9092562794685364, accuracy: 0.7098\n",
      "Epoch 3, Cost: 0.30186161398887634, accuracy: 0.7462\n",
      "Epoch 4, Cost: 0.80680912733078, accuracy: 0.7704\n",
      "Epoch 5, Cost: 0.5231899619102478, accuracy: 0.7828\n",
      "Epoch 6, Cost: 1.3443899154663086, accuracy: 0.755\n",
      "Epoch 7, Cost: 0.16051079332828522, accuracy: 0.7784\n",
      "Epoch 8, Cost: 0.1875312626361847, accuracy: 0.7794\n",
      "Epoch 9, Cost: 0.263700395822525, accuracy: 0.7792\n"
     ]
    }
   ],
   "source": [
    "channel1 = 16\n",
    "channel2 = 32\n",
    "channel3 = 64\n",
    "channel4 = 128\n",
    "\n",
    "epochs = 10\n",
    "lr = 1e-3\n",
    "\n",
    "modelCNN5 = nn.Sequential(\n",
    "    CNN_class4(in_channels=3, channel1=channel1, channel2=channel2),\n",
    "    CNN_class4(in_channels=channel2, channel1=channel3, channel2=channel4),\n",
    "    nn.Flatten(),\n",
    "    nn.Linear(in_features=8*8*channel4, out_features=10),\n",
    "    \n",
    ")\n",
    "\n",
    "optimizer = torch.optim.Adam(modelCNN5.parameters(), lr=lr, betas= (0.9, 0.999))\n",
    "train(modelCNN5, optimizer, epochs=epochs)"
   ]
  }
 ],
 "metadata": {
  "kernelspec": {
   "display_name": "entornoJupyter",
   "language": "python",
   "name": "python3"
  },
  "language_info": {
   "codemirror_mode": {
    "name": "ipython",
    "version": 3
   },
   "file_extension": ".py",
   "mimetype": "text/x-python",
   "name": "python",
   "nbconvert_exporter": "python",
   "pygments_lexer": "ipython3",
   "version": "3.12.3"
  }
 },
 "nbformat": 4,
 "nbformat_minor": 2
}
